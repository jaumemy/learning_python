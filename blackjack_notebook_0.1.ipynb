{
 "cells": [
  {
   "cell_type": "code",
   "execution_count": 2,
   "metadata": {},
   "outputs": [],
   "source": [
    "import random\n",
    "from ipywidgets import interact, interactive, fixed\n",
    "import ipywidgets as widgets"
   ]
  },
  {
   "cell_type": "code",
   "execution_count": 3,
   "metadata": {},
   "outputs": [],
   "source": [
    "from IPython import display\n",
    "import time\n",
    "import pdb"
   ]
  },
  {
   "cell_type": "code",
   "execution_count": 4,
   "metadata": {},
   "outputs": [],
   "source": [
    "playing = True"
   ]
  },
  {
   "cell_type": "code",
   "execution_count": 5,
   "metadata": {},
   "outputs": [],
   "source": [
    "suits = ('Hearts', 'Diamonds', 'Spades', 'Clubs')\n",
    "ranks = ('Two','Three','Four','Five', 'Six', 'Seven', 'Eight', 'Nine', 'Ten', 'Jack', 'Queen', 'King','Ace')\n",
    "values = {'Two':2, 'Three':3, 'Four':4, 'Five':5, 'Six':6, 'Seven':7, 'Eight':8,'Nine':9, 'Ten':10, 'Jack':10, \n",
    "         'Queen':10, 'King':10, 'Ace':11}\n"
   ]
  },
  {
   "cell_type": "code",
   "execution_count": 6,
   "metadata": {},
   "outputs": [],
   "source": [
    "class Card:\n",
    "    \n",
    "    def __init__(self, suit, rank):\n",
    "        self.suit = suit\n",
    "        self.rank = rank\n",
    "        self.value = values[rank]\n",
    "    \n",
    "    def __str__(self):\n",
    "        return self.rank + ' of ' + self.suit"
   ]
  },
  {
   "cell_type": "code",
   "execution_count": 7,
   "metadata": {},
   "outputs": [],
   "source": [
    "class Deck:\n",
    "    \n",
    "    def __init__(self):\n",
    "        self.deck = []  # start with an empty list\n",
    "        for suit in suits:\n",
    "            for rank in ranks:\n",
    "                card = Card(suit, rank)\n",
    "                self.deck.append(card)\n",
    "    \n",
    "    def __str__(self):\n",
    "        deck_comp = ''\n",
    "        for card in self.deck:\n",
    "            deck_comp += '\\n' + card.__str__()\n",
    "        return 'The deck has:' + deck_comp\n",
    "\n",
    "    def shuffle(self):\n",
    "        random.shuffle(self.deck)\n",
    "        \n",
    "    def deal(self):\n",
    "        return self.deck.pop()\n",
    "    \n",
    "    def decklist(self):\n",
    "        return self.deck"
   ]
  },
  {
   "cell_type": "code",
   "execution_count": 8,
   "metadata": {},
   "outputs": [],
   "source": [
    "class Hand:\n",
    "    def __init__(self):\n",
    "        self.cards = []  # start with an empty list as we did in the Deck class\n",
    "        self.value = 0   # start with zero value\n",
    "        self.aces = 0    # add an attribute to keep track of aces\n",
    "    \n",
    "    def add_card(self,card):\n",
    "        self.cards.append(card)\n",
    "        self.value += card.value\n",
    "        if card.rank == 'Ace':\n",
    "            self.aces += 1\n",
    "    \n",
    "    def adjust_for_ace(self):\n",
    "        while self.value > 21 and self.aces:\n",
    "            self.value -= 10\n",
    "            self.aces -= 1"
   ]
  },
  {
   "cell_type": "code",
   "execution_count": 9,
   "metadata": {},
   "outputs": [],
   "source": [
    "class Chips:\n",
    "    \n",
    "    def __init__(self):\n",
    "        self.total = 100  # This can be set to a default value or supplied by a user input\n",
    "        self.bet = 0\n",
    "        \n",
    "    def win_bet(self):\n",
    "        self.total += self.bet\n",
    "    \n",
    "    def lose_bet(self):\n",
    "        self.total -= self.bet"
   ]
  },
  {
   "cell_type": "code",
   "execution_count": 10,
   "metadata": {},
   "outputs": [],
   "source": [
    "def take_bet():\n",
    "    while True:\n",
    "        try:    \n",
    "            while True:\n",
    "                \n",
    "                bet = int(input(f'How many chips do you want to bet? (You have {chips.total}) '))\n",
    "                if bet > chips.total:\n",
    "                    print('Insufficient chips')\n",
    "                else:\n",
    "                    return bet\n",
    "\n",
    "        except:\n",
    "            print('Please, add a correct number')\n",
    "            break\n"
   ]
  },
  {
   "cell_type": "code",
   "execution_count": 11,
   "metadata": {},
   "outputs": [],
   "source": [
    "def hit(deck,hand):\n",
    "    \n",
    "    hitcard = deck.deal()\n",
    "    hand.add_card(hitcard)\n",
    "    hand.adjust_for_ace()"
   ]
  },
  {
   "cell_type": "code",
   "execution_count": 12,
   "metadata": {},
   "outputs": [],
   "source": [
    "def hit_or_stand(deck,hand):\n",
    "    global playing\n",
    "    \n",
    "    while True:\n",
    "        x = input('Do you want to hit? (Y or N)').lower()\n",
    "        if x == 'y':\n",
    "            hit(deck, hand)\n",
    "            break\n",
    "        elif x == 'n':\n",
    "            print(\"Player stands. Dealer's turn\")\n",
    "            playing = False\n",
    "            break\n",
    "        else:\n",
    "            print('Please just Y or N')\n",
    "    display.clear_output()"
   ]
  },
  {
   "cell_type": "code",
   "execution_count": 13,
   "metadata": {},
   "outputs": [],
   "source": [
    "def show_some(player,dealer):\n",
    "    \n",
    "    listplayer = []\n",
    "    for i in player.cards:\n",
    "        listplayer.append(i)\n",
    "    print('\\nPlayer has the following cards:\\n')\n",
    "    for i in listplayer:\n",
    "        print(i)\n",
    "    print(f\"Value = {player.value}\")\n",
    "    \n",
    "    listdealer = []\n",
    "    for i in dealer.cards:\n",
    "        listdealer.append(i)\n",
    "    print('\\n\\nDealer has the following cards:\\n')\n",
    "    print('Secret card')\n",
    "    for i in listdealer[1::]:\n",
    "        print(i)\n",
    "    print('\\n\\n')"
   ]
  },
  {
   "cell_type": "code",
   "execution_count": 14,
   "metadata": {},
   "outputs": [],
   "source": [
    "def show_all(player,dealer):\n",
    "    \n",
    "    listplayer = []\n",
    "    for i in player.cards:\n",
    "        listplayer.append(i)\n",
    "    \n",
    "    listdealer = []\n",
    "    for i in dealer.cards:\n",
    "        listdealer.append(i)\n",
    "        \n",
    "    print(f'\\nPlayer value is {player.value} and has the following cards:\\n')\n",
    "    for i in listplayer:\n",
    "        print(i)\n",
    "    print(f'\\n\\nDealer value is {dealer.value} and has the following cards:\\n')\n",
    "    for i in listdealer:\n",
    "        print(i)\n",
    "    print('\\n\\n')"
   ]
  },
  {
   "cell_type": "code",
   "execution_count": 15,
   "metadata": {},
   "outputs": [],
   "source": [
    "def player_busts(player,chips):\n",
    "    global playing\n",
    "    print(f\"Player loses. Player's card value is {player.value}. Dealer wins\")\n",
    "    chips.lose_bet()\n",
    "    print(f'Player has now {chips.total} chips')\n",
    "    playing = False"
   ]
  },
  {
   "cell_type": "code",
   "execution_count": 16,
   "metadata": {},
   "outputs": [],
   "source": [
    "def player_wins(player, dealer, chips):\n",
    "    global playing\n",
    "    if player.value == 21:\n",
    "        print('Player wins! Cards value is exactly 21!')\n",
    "        chips.win_bet()\n",
    "        print(f'Player has now {chips.total} chips')\n",
    "        playing = False\n",
    "    \n",
    "    elif player.value > dealer.value and player.value < 21:\n",
    "        print(f\"Player wins! Player's cards value is {player.value} and Dealer's cards value is {dealer.value} \")\n",
    "        chips.win_bet()\n",
    "        print(f'Player has now {chips.total} chips')\n",
    "        playing = False"
   ]
  },
  {
   "cell_type": "code",
   "execution_count": 17,
   "metadata": {},
   "outputs": [],
   "source": [
    "def dealer_busts(player, dealer, chips):\n",
    "    global dealerplaying\n",
    "    print(f\"Player wins! Player's cards value is {player.value} and Dealer's cards value is {dealer.value}\")\n",
    "    chips.win_bet()\n",
    "    print(f'Player has now {chips.total} chips')\n",
    "    dealerplaying = False"
   ]
  },
  {
   "cell_type": "code",
   "execution_count": 18,
   "metadata": {},
   "outputs": [],
   "source": [
    "def dealer_wins(player, dealer, chips):\n",
    "    global dealerplaying\n",
    "    if dealer.value == 21:\n",
    "        print('Dealer wins. Cards value is exactly 21.')\n",
    "        chips.lose_bet()\n",
    "        print(f'Player has now {chips.total} chips')\n",
    "        dealerplaying = False\n",
    "    \n",
    "    elif dealer.value > player.value and dealer.value < 21:\n",
    "        print(f\"Player loses. Player's cards value is {player.value} and Dealer's cards value is {dealer.value}\")\n",
    "        chips.lose_bet()\n",
    "        print(f'Player has now {chips.total} chips')\n",
    "        dealerplaying = False"
   ]
  },
  {
   "cell_type": "code",
   "execution_count": 19,
   "metadata": {},
   "outputs": [],
   "source": [
    "def push(player, dealer):\n",
    "    global dealerplaying\n",
    "    print(f'Push. Player and dealer tie.{player.value}/{dealer.value} Bet is returned')\n",
    "    print(f'Player has now {chips.total} chips')\n",
    "    dealerplaying = False"
   ]
  },
  {
   "cell_type": "code",
   "execution_count": 20,
   "metadata": {},
   "outputs": [],
   "source": [
    "def on_button_clicked_a(b):\n",
    "    print('playing again')\n",
    "    buttona.close()\n",
    "    buttonb.close()\n",
    "    play_again()\n",
    "\n",
    "def on_button_clicked_b(b):\n",
    "    print('stop playing')\n",
    "    buttona.close()\n",
    "    buttonb.close()\n",
    "    play_again()"
   ]
  },
  {
   "cell_type": "code",
   "execution_count": 21,
   "metadata": {},
   "outputs": [],
   "source": [
    "buttona = widgets.Button(description = 'Play again!', button_style = 'info')\n",
    "buttonb = widgets.Button(description = 'Stop playing', button_style = 'info')"
   ]
  },
  {
   "cell_type": "code",
   "execution_count": null,
   "metadata": {},
   "outputs": [],
   "source": []
  },
  {
   "cell_type": "code",
   "execution_count": 24,
   "metadata": {},
   "outputs": [],
   "source": [
    "def play_again():\n",
    "    global deck\n",
    "    global player\n",
    "    global dealer\n",
    "    global chips\n",
    "    global playing\n",
    "    global dealerplaying\n",
    "    \n",
    "    display.clear_output()\n",
    "    deck = Deck()\n",
    "    deck.shuffle()\n",
    "    player = Hand()\n",
    "    dealer = Hand()\n",
    "    player.add_card(deck.deal())\n",
    "    player.add_card(deck.deal())\n",
    "    player.adjust_for_ace()\n",
    "    dealer.add_card(deck.deal())\n",
    "    dealer.add_card(deck.deal())\n",
    "    dealer.adjust_for_ace()\n",
    "\n",
    "    chips.bet = take_bet()\n",
    "\n",
    "    # Shows the cards, except one hidden for the dealer\n",
    "    show_some(player,dealer)\n",
    "\n",
    "    #starts the rounds\n",
    "    playing = True\n",
    "    dealerplaying = True\n",
    "    while playing:\n",
    "\n",
    "        #asks for hit or pass and shows the cards and value\n",
    "        if player.value != 21:\n",
    "            hit_or_stand(deck, player)\n",
    "            show_some(player, dealer)\n",
    "\n",
    "        #checks for player's win or bust\n",
    "        if player.value == 21:\n",
    "            display.clear_output()\n",
    "            player_wins(player,dealer,chips)\n",
    "            dealerplaying = False\n",
    "        elif player.value > 21:\n",
    "            display.clear_output()\n",
    "            player_busts(player, chips)\n",
    "            dealerplaying = False\n",
    "\n",
    "        #dealer's turn\n",
    "\n",
    "    while dealerplaying:\n",
    "\n",
    "\n",
    "        while dealer.value < player.value and dealer.value <= 21 :\n",
    "            hit(deck, dealer)\n",
    "\n",
    "        #shows all cards and checks for different ending scenarios\n",
    "\n",
    "\n",
    "        if dealer.value > player.value and dealer.value < 21:\n",
    "            display.clear_output()\n",
    "            dealer_wins(player, dealer, chips)\n",
    "        elif dealer.value > 21:\n",
    "            display.clear_output()\n",
    "            dealer_busts(player, dealer, chips)\n",
    "        elif player.value == dealer.value:\n",
    "            display.clear_output()\n",
    "            push(player, dealer)\n",
    "            \n",
    "\n",
    "    if chips.total == 0:\n",
    "        print('You ran out of chips. GAME OVER')\n",
    "        playagain = False"
   ]
  },
  {
   "cell_type": "code",
   "execution_count": null,
   "metadata": {},
   "outputs": [],
   "source": []
  },
  {
   "cell_type": "code",
   "execution_count": null,
   "metadata": {},
   "outputs": [],
   "source": []
  },
  {
   "cell_type": "code",
   "execution_count": 25,
   "metadata": {},
   "outputs": [
    {
     "name": "stdout",
     "output_type": "stream",
     "text": [
      "Player wins! Cards value is exactly 21!\n"
     ]
    },
    {
     "ename": "TypeError",
     "evalue": "unsupported operand type(s) for +=: 'int' and 'NoneType'",
     "output_type": "error",
     "traceback": [
      "\u001b[0;31m---------------------------------------------------------------------------\u001b[0m",
      "\u001b[0;31mTypeError\u001b[0m                                 Traceback (most recent call last)",
      "\u001b[0;32m<ipython-input-25-552b007f0bc2>\u001b[0m in \u001b[0;36m<module>\u001b[0;34m\u001b[0m\n\u001b[1;32m     18\u001b[0m \u001b[0mchips\u001b[0m \u001b[0;34m=\u001b[0m \u001b[0mChips\u001b[0m\u001b[0;34m(\u001b[0m\u001b[0;34m)\u001b[0m\u001b[0;34m\u001b[0m\u001b[0;34m\u001b[0m\u001b[0m\n\u001b[1;32m     19\u001b[0m \u001b[0;34m\u001b[0m\u001b[0m\n\u001b[0;32m---> 20\u001b[0;31m \u001b[0mplay_again\u001b[0m\u001b[0;34m(\u001b[0m\u001b[0;34m)\u001b[0m\u001b[0;34m\u001b[0m\u001b[0;34m\u001b[0m\u001b[0m\n\u001b[0m\u001b[1;32m     21\u001b[0m \u001b[0;34m\u001b[0m\u001b[0m\n\u001b[1;32m     22\u001b[0m \u001b[0mdisplay\u001b[0m\u001b[0;34m.\u001b[0m\u001b[0mdisplay\u001b[0m\u001b[0;34m(\u001b[0m\u001b[0mbuttona\u001b[0m\u001b[0;34m)\u001b[0m\u001b[0;34m\u001b[0m\u001b[0;34m\u001b[0m\u001b[0m\n",
      "\u001b[0;32m<ipython-input-24-d56f7c6befa4>\u001b[0m in \u001b[0;36mplay_again\u001b[0;34m()\u001b[0m\n\u001b[1;32m     37\u001b[0m         \u001b[0;32mif\u001b[0m \u001b[0mplayer\u001b[0m\u001b[0;34m.\u001b[0m\u001b[0mvalue\u001b[0m \u001b[0;34m==\u001b[0m \u001b[0;36m21\u001b[0m\u001b[0;34m:\u001b[0m\u001b[0;34m\u001b[0m\u001b[0;34m\u001b[0m\u001b[0m\n\u001b[1;32m     38\u001b[0m             \u001b[0mdisplay\u001b[0m\u001b[0;34m.\u001b[0m\u001b[0mclear_output\u001b[0m\u001b[0;34m(\u001b[0m\u001b[0;34m)\u001b[0m\u001b[0;34m\u001b[0m\u001b[0;34m\u001b[0m\u001b[0m\n\u001b[0;32m---> 39\u001b[0;31m             \u001b[0mplayer_wins\u001b[0m\u001b[0;34m(\u001b[0m\u001b[0mplayer\u001b[0m\u001b[0;34m,\u001b[0m\u001b[0mdealer\u001b[0m\u001b[0;34m,\u001b[0m\u001b[0mchips\u001b[0m\u001b[0;34m)\u001b[0m\u001b[0;34m\u001b[0m\u001b[0;34m\u001b[0m\u001b[0m\n\u001b[0m\u001b[1;32m     40\u001b[0m             \u001b[0mdealerplaying\u001b[0m \u001b[0;34m=\u001b[0m \u001b[0;32mFalse\u001b[0m\u001b[0;34m\u001b[0m\u001b[0;34m\u001b[0m\u001b[0m\n\u001b[1;32m     41\u001b[0m         \u001b[0;32melif\u001b[0m \u001b[0mplayer\u001b[0m\u001b[0;34m.\u001b[0m\u001b[0mvalue\u001b[0m \u001b[0;34m>\u001b[0m \u001b[0;36m21\u001b[0m\u001b[0;34m:\u001b[0m\u001b[0;34m\u001b[0m\u001b[0;34m\u001b[0m\u001b[0m\n",
      "\u001b[0;32m<ipython-input-16-369600eefa4e>\u001b[0m in \u001b[0;36mplayer_wins\u001b[0;34m(player, dealer, chips)\u001b[0m\n\u001b[1;32m      3\u001b[0m     \u001b[0;32mif\u001b[0m \u001b[0mplayer\u001b[0m\u001b[0;34m.\u001b[0m\u001b[0mvalue\u001b[0m \u001b[0;34m==\u001b[0m \u001b[0;36m21\u001b[0m\u001b[0;34m:\u001b[0m\u001b[0;34m\u001b[0m\u001b[0;34m\u001b[0m\u001b[0m\n\u001b[1;32m      4\u001b[0m         \u001b[0mprint\u001b[0m\u001b[0;34m(\u001b[0m\u001b[0;34m'Player wins! Cards value is exactly 21!'\u001b[0m\u001b[0;34m)\u001b[0m\u001b[0;34m\u001b[0m\u001b[0;34m\u001b[0m\u001b[0m\n\u001b[0;32m----> 5\u001b[0;31m         \u001b[0mchips\u001b[0m\u001b[0;34m.\u001b[0m\u001b[0mwin_bet\u001b[0m\u001b[0;34m(\u001b[0m\u001b[0;34m)\u001b[0m\u001b[0;34m\u001b[0m\u001b[0;34m\u001b[0m\u001b[0m\n\u001b[0m\u001b[1;32m      6\u001b[0m         \u001b[0mprint\u001b[0m\u001b[0;34m(\u001b[0m\u001b[0;34mf'Player has now {chips.total} chips'\u001b[0m\u001b[0;34m)\u001b[0m\u001b[0;34m\u001b[0m\u001b[0;34m\u001b[0m\u001b[0m\n\u001b[1;32m      7\u001b[0m         \u001b[0mplaying\u001b[0m \u001b[0;34m=\u001b[0m \u001b[0;32mFalse\u001b[0m\u001b[0;34m\u001b[0m\u001b[0;34m\u001b[0m\u001b[0m\n",
      "\u001b[0;32m<ipython-input-9-5aabc4062864>\u001b[0m in \u001b[0;36mwin_bet\u001b[0;34m(self)\u001b[0m\n\u001b[1;32m      6\u001b[0m \u001b[0;34m\u001b[0m\u001b[0m\n\u001b[1;32m      7\u001b[0m     \u001b[0;32mdef\u001b[0m \u001b[0mwin_bet\u001b[0m\u001b[0;34m(\u001b[0m\u001b[0mself\u001b[0m\u001b[0;34m)\u001b[0m\u001b[0;34m:\u001b[0m\u001b[0;34m\u001b[0m\u001b[0;34m\u001b[0m\u001b[0m\n\u001b[0;32m----> 8\u001b[0;31m         \u001b[0mself\u001b[0m\u001b[0;34m.\u001b[0m\u001b[0mtotal\u001b[0m \u001b[0;34m+=\u001b[0m \u001b[0mself\u001b[0m\u001b[0;34m.\u001b[0m\u001b[0mbet\u001b[0m\u001b[0;34m\u001b[0m\u001b[0;34m\u001b[0m\u001b[0m\n\u001b[0m\u001b[1;32m      9\u001b[0m \u001b[0;34m\u001b[0m\u001b[0m\n\u001b[1;32m     10\u001b[0m     \u001b[0;32mdef\u001b[0m \u001b[0mlose_bet\u001b[0m\u001b[0;34m(\u001b[0m\u001b[0mself\u001b[0m\u001b[0;34m)\u001b[0m\u001b[0;34m:\u001b[0m\u001b[0;34m\u001b[0m\u001b[0;34m\u001b[0m\u001b[0m\n",
      "\u001b[0;31mTypeError\u001b[0m: unsupported operand type(s) for +=: 'int' and 'NoneType'"
     ]
    }
   ],
   "source": [
    "# Presents a text so the player decides to start playing\n",
    "startgame = input('Welcome to Blackjack! Enter any key to play ...')\n",
    "display.clear_output()\n",
    "\n",
    "# Creates the deck, shuffles it, creates the two players and deals two cards to each\n",
    "deck = Deck()\n",
    "deck.shuffle()\n",
    "player = Hand()\n",
    "dealer = Hand()\n",
    "player.add_card(deck.deal())\n",
    "player.add_card(deck.deal())\n",
    "player.adjust_for_ace()\n",
    "dealer.add_card(deck.deal())\n",
    "dealer.add_card(deck.deal())\n",
    "dealer.adjust_for_ace()\n",
    "\n",
    "# Prepares the chips and asks player for the bet/Start of the playagain loop\n",
    "chips = Chips()\n",
    "\n",
    "play_again()\n",
    "\n",
    "display.display(buttona)\n",
    "display.display(buttonb)        \n",
    "\n",
    "buttona.on_click(on_button_clicked_a)\n",
    "buttonb.on_click(on_button_clicked_b)\n",
    "        \n",
    "        \n",
    "        \n",
    "            \n",
    "        "
   ]
  },
  {
   "cell_type": "code",
   "execution_count": 25,
   "metadata": {},
   "outputs": [
    {
     "data": {
      "text/plain": [
       "True"
      ]
     },
     "execution_count": 25,
     "metadata": {},
     "output_type": "execute_result"
    }
   ],
   "source": [
    "stop"
   ]
  },
  {
   "cell_type": "code",
   "execution_count": 40,
   "metadata": {},
   "outputs": [
    {
     "data": {
      "text/plain": [
       "True"
      ]
     },
     "execution_count": 40,
     "metadata": {},
     "output_type": "execute_result"
    }
   ],
   "source": [
    "playagain"
   ]
  },
  {
   "cell_type": "code",
   "execution_count": 47,
   "metadata": {},
   "outputs": [
    {
     "data": {
      "text/plain": [
       "10"
      ]
     },
     "execution_count": 47,
     "metadata": {},
     "output_type": "execute_result"
    }
   ],
   "source": [
    "chips.total"
   ]
  },
  {
   "cell_type": "code",
   "execution_count": 48,
   "metadata": {},
   "outputs": [
    {
     "name": "stdout",
     "output_type": "stream",
     "text": [
      "Register a callback to execute when the button is clicked.\n",
      "\n",
      "        The callback will be called with one argument, the clicked button\n",
      "        widget instance.\n",
      "\n",
      "        Parameters\n",
      "        ----------\n",
      "        remove: bool (optional)\n",
      "            Set to true to remove the callback from the list of callbacks.\n",
      "        \n"
     ]
    }
   ],
   "source": [
    "print(widgets.Button.on_click.__doc__)"
   ]
  },
  {
   "cell_type": "code",
   "execution_count": null,
   "metadata": {},
   "outputs": [],
   "source": []
  },
  {
   "cell_type": "code",
   "execution_count": null,
   "metadata": {},
   "outputs": [],
   "source": []
  },
  {
   "cell_type": "code",
   "execution_count": 2,
   "metadata": {},
   "outputs": [
    {
     "data": {
      "application/vnd.jupyter.widget-view+json": {
       "model_id": "65037d58d3b044d595949f975abecade",
       "version_major": 2,
       "version_minor": 0
      },
      "text/plain": [
       "Button(description='Play again!', style=ButtonStyle())"
      ]
     },
     "metadata": {},
     "output_type": "display_data"
    },
    {
     "data": {
      "application/vnd.jupyter.widget-view+json": {
       "model_id": "2cbb1793edf94f65b7d4d318a2a74575",
       "version_major": 2,
       "version_minor": 0
      },
      "text/plain": [
       "Button(description='Stop playing', style=ButtonStyle())"
      ]
     },
     "metadata": {},
     "output_type": "display_data"
    },
    {
     "ename": "KeyboardInterrupt",
     "evalue": "",
     "output_type": "error",
     "traceback": [
      "\u001b[0;31m---------------------------------------------------------------------------\u001b[0m",
      "\u001b[0;31mKeyboardInterrupt\u001b[0m                         Traceback (most recent call last)",
      "\u001b[0;32m<ipython-input-2-4710e71381b3>\u001b[0m in \u001b[0;36m<module>\u001b[0;34m\u001b[0m\n\u001b[1;32m     27\u001b[0m \u001b[0;32mwhile\u001b[0m \u001b[0mlooping\u001b[0m\u001b[0;34m:\u001b[0m\u001b[0;34m\u001b[0m\u001b[0;34m\u001b[0m\u001b[0m\n\u001b[1;32m     28\u001b[0m     \u001b[0mbuttona\u001b[0m\u001b[0;34m.\u001b[0m\u001b[0mon_click\u001b[0m\u001b[0;34m(\u001b[0m\u001b[0mon_button_clicked_a\u001b[0m\u001b[0;34m)\u001b[0m\u001b[0;34m\u001b[0m\u001b[0;34m\u001b[0m\u001b[0m\n\u001b[0;32m---> 29\u001b[0;31m     \u001b[0mbuttonb\u001b[0m\u001b[0;34m.\u001b[0m\u001b[0mon_click\u001b[0m\u001b[0;34m(\u001b[0m\u001b[0mon_button_clicked_b\u001b[0m\u001b[0;34m)\u001b[0m\u001b[0;34m\u001b[0m\u001b[0;34m\u001b[0m\u001b[0m\n\u001b[0m",
      "\u001b[0;32m~/opt/miniconda3/envs/conda_env/lib/python3.8/site-packages/ipywidgets/widgets/widget_button.py\u001b[0m in \u001b[0;36mon_click\u001b[0;34m(self, callback, remove)\u001b[0m\n\u001b[1;32m     84\u001b[0m             \u001b[0mSet\u001b[0m \u001b[0mto\u001b[0m \u001b[0mtrue\u001b[0m \u001b[0mto\u001b[0m \u001b[0mremove\u001b[0m \u001b[0mthe\u001b[0m \u001b[0mcallback\u001b[0m \u001b[0;32mfrom\u001b[0m \u001b[0mthe\u001b[0m \u001b[0mlist\u001b[0m \u001b[0mof\u001b[0m \u001b[0mcallbacks\u001b[0m\u001b[0;34m.\u001b[0m\u001b[0;34m\u001b[0m\u001b[0;34m\u001b[0m\u001b[0m\n\u001b[1;32m     85\u001b[0m         \"\"\"\n\u001b[0;32m---> 86\u001b[0;31m         \u001b[0mself\u001b[0m\u001b[0;34m.\u001b[0m\u001b[0m_click_handlers\u001b[0m\u001b[0;34m.\u001b[0m\u001b[0mregister_callback\u001b[0m\u001b[0;34m(\u001b[0m\u001b[0mcallback\u001b[0m\u001b[0;34m,\u001b[0m \u001b[0mremove\u001b[0m\u001b[0;34m=\u001b[0m\u001b[0mremove\u001b[0m\u001b[0;34m)\u001b[0m\u001b[0;34m\u001b[0m\u001b[0;34m\u001b[0m\u001b[0m\n\u001b[0m\u001b[1;32m     87\u001b[0m \u001b[0;34m\u001b[0m\u001b[0m\n\u001b[1;32m     88\u001b[0m     \u001b[0;32mdef\u001b[0m \u001b[0mclick\u001b[0m\u001b[0;34m(\u001b[0m\u001b[0mself\u001b[0m\u001b[0;34m)\u001b[0m\u001b[0;34m:\u001b[0m\u001b[0;34m\u001b[0m\u001b[0;34m\u001b[0m\u001b[0m\n",
      "\u001b[0;31mKeyboardInterrupt\u001b[0m: "
     ]
    }
   ],
   "source": [
    "from IPython import display\n",
    "import ipywidgets as widgets\n",
    "\n",
    "buttona = widgets.Button(description = 'Play again!')\n",
    "buttonb = widgets.Button(description = 'Stop playing')\n",
    "\n",
    "def on_button_clicked_a(b):\n",
    "    print('playing again')\n",
    "    global looping\n",
    "    looping = False\n",
    "    buttona.close()\n",
    "    buttonb.close()\n",
    "\n",
    "def on_button_clicked_b(b):\n",
    "    print('stop playing')\n",
    "    global looping\n",
    "    looping = False\n",
    "    buttona.close()\n",
    "    buttonb.close()\n",
    "    \n",
    "display.display(buttona)\n",
    "display.display(buttonb)\n",
    "    \n",
    "    \n",
    "    buttona.on_click(on_button_clicked_a)\n",
    "    buttonb.on_click(on_button_clicked_b)"
   ]
  },
  {
   "cell_type": "code",
   "execution_count": null,
   "metadata": {},
   "outputs": [],
   "source": []
  }
 ],
 "metadata": {
  "kernelspec": {
   "display_name": "Python 3",
   "language": "python",
   "name": "python3"
  },
  "language_info": {
   "codemirror_mode": {
    "name": "ipython",
    "version": 3
   },
   "file_extension": ".py",
   "mimetype": "text/x-python",
   "name": "python",
   "nbconvert_exporter": "python",
   "pygments_lexer": "ipython3",
   "version": "3.8.6"
  }
 },
 "nbformat": 4,
 "nbformat_minor": 4
}
