{
 "cells": [
  {
   "cell_type": "code",
   "execution_count": 237,
   "metadata": {},
   "outputs": [],
   "source": [
    "import random\n",
    "import ipywidgets as widgets\n",
    "from IPython import display\n",
    "import time\n",
    "import pdb"
   ]
  },
  {
   "cell_type": "code",
   "execution_count": null,
   "metadata": {},
   "outputs": [],
   "source": []
  },
  {
   "cell_type": "code",
   "execution_count": null,
   "metadata": {},
   "outputs": [],
   "source": []
  },
  {
   "cell_type": "code",
   "execution_count": null,
   "metadata": {},
   "outputs": [],
   "source": []
  },
  {
   "cell_type": "code",
   "execution_count": 238,
   "metadata": {},
   "outputs": [],
   "source": [
    "# values to use lates to build the shoe\n",
    "\n",
    "suits = ('Hearts', 'Diamonds', 'Spades', 'Clubs')\n",
    "ranks = ('Two','Three','Four','Five', 'Six', 'Seven', 'Eight', 'Nine', 'Ten', 'Jack', 'Queen', 'King','Ace')\n",
    "values = {'Two':2, 'Three':3, 'Four':4, 'Five':5, 'Six':6, 'Seven':7, 'Eight':8,'Nine':9, 'Ten':10, 'Jack':10, \n",
    "         'Queen':10, 'King':10, 'Ace':11}"
   ]
  },
  {
   "cell_type": "code",
   "execution_count": null,
   "metadata": {},
   "outputs": [],
   "source": []
  },
  {
   "cell_type": "code",
   "execution_count": null,
   "metadata": {},
   "outputs": [],
   "source": []
  },
  {
   "cell_type": "code",
   "execution_count": null,
   "metadata": {},
   "outputs": [],
   "source": []
  },
  {
   "cell_type": "code",
   "execution_count": 239,
   "metadata": {},
   "outputs": [],
   "source": [
    "class Card:\n",
    "    \n",
    "    def __init__(self, suit, rank):\n",
    "        # creates the card, with its value in self.value\n",
    "        self.suit = suit\n",
    "        self.rank = rank\n",
    "        self.value = values[rank]\n",
    "    \n",
    "    def __str__(self):\n",
    "        # creates a print to show the player via text\n",
    "        return self.rank + ' of ' + self.suit"
   ]
  },
  {
   "cell_type": "code",
   "execution_count": 240,
   "metadata": {},
   "outputs": [],
   "source": [
    "class Shoe:\n",
    "    \n",
    "    def __init__(self):\n",
    "        # creates class shoe with 4 decks \n",
    "        self.shoe = []\n",
    "        i = 1\n",
    "        while i <= 4:\n",
    "            for suit in suits:\n",
    "                for rank in ranks:\n",
    "                    card = Card(suit, rank)\n",
    "                    self.shoe.append(card)\n",
    "            i += 1\n",
    "    \n",
    "    def __str__(self):\n",
    "        # just to check if shoe created correctly\n",
    "        shoe_comp = ''\n",
    "        for card in self.shoe:\n",
    "            shoe_comp += '\\n' + card.__str__()\n",
    "        return 'The shoe has:' + shoe_comp\n",
    "    \n",
    "    def shuffle(self):\n",
    "        # randomly shuffles the shoe\n",
    "        random.shuffle(self.shoe)\n",
    "        \n",
    "    def deal(self):\n",
    "        # takes one card from the shoe\n",
    "        return self.shoe.pop()\n",
    "    \n",
    "    def shoelist(self):\n",
    "        # to check the list and how many cards are in the shoe\n",
    "        return self.shoe"
   ]
  },
  {
   "cell_type": "code",
   "execution_count": 241,
   "metadata": {},
   "outputs": [],
   "source": [
    "class Hand:\n",
    "    def __init__(self):\n",
    "        # creates hand, with value and keep track of aces for 1 or 11 value and for 'soft' or 'hand' value\n",
    "        self.cards = []  \n",
    "        self.value = 0   \n",
    "        self.aces = 0    \n",
    "    \n",
    "    def add_card(self,card):\n",
    "        # when card taken, add a card and the value. If card is ace, adds one ace to self.aces\n",
    "        self.cards.append(card)\n",
    "        self.value += card.value\n",
    "        if card.rank == 'Ace':\n",
    "            self.aces += 1\n",
    "    \n",
    "    def adjust_for_ace(self):\n",
    "        # adjusts the value of one ace to 1 if total is more than 21 and takes one ace out from tracking\n",
    "        while self.value > 21 and self.aces:\n",
    "            self.value -= 10\n",
    "            self.aces -= 1"
   ]
  },
  {
   "cell_type": "code",
   "execution_count": 242,
   "metadata": {},
   "outputs": [],
   "source": [
    "class Chips:\n",
    "    \n",
    "    def __init__(self):\n",
    "        # creates the chips. By default, player starts with 100 but that could be changed in future recoding\n",
    "        self.total = 100\n",
    "        self.bet = 0\n",
    "        \n",
    "    def win_bet(self):\n",
    "        # in case of wining, chips are increased by 1/1 gain/bet \n",
    "        self.total += self.bet\n",
    "    \n",
    "    def lose_bet(self):\n",
    "        # in case of losing, chips are decreased by 1/1 loss/bet\n",
    "        self.total -= self.bet\n",
    "        \n",
    "    def blackjack_bet(self):\n",
    "        # in case of winning with blackjack, chips are increased by 3/2 gain/bet\n",
    "        self.total = int(self.total*1.5)"
   ]
  },
  {
   "cell_type": "code",
   "execution_count": null,
   "metadata": {},
   "outputs": [],
   "source": []
  },
  {
   "cell_type": "code",
   "execution_count": null,
   "metadata": {},
   "outputs": [],
   "source": []
  },
  {
   "cell_type": "code",
   "execution_count": null,
   "metadata": {},
   "outputs": [],
   "source": []
  },
  {
   "cell_type": "code",
   "execution_count": 243,
   "metadata": {},
   "outputs": [],
   "source": [
    "def initialize_game():\n",
    "    global shoe, player, dealer, slidera, buttonc, ft\n",
    "    # ft means first time, in that case, creates a new shoe\n",
    "    if ft:\n",
    "        shoe = Shoe()\n",
    "        shoe.shuffle()\n",
    "    # also, if 25% or less remaining cards in the show, creates a new shoe\n",
    "    elif len(shoe.shoelist()) <= 52:\n",
    "        shoe = Shoe()\n",
    "        shoe.shuffle()\n",
    "        print('Shoe has been shuffled')\n",
    "    \n",
    "    #creates new hands for player, dealer, takes two card for each and adjust for aces\n",
    "    player = Hand()\n",
    "    dealer = Hand()\n",
    "    player.add_card(shoe.deal())\n",
    "    player.add_card(shoe.deal())\n",
    "    player.adjust_for_ace()\n",
    "    dealer.add_card(shoe.deal())\n",
    "    dealer.add_card(shoe.deal())\n",
    "    dealer.adjust_for_ace()\n",
    "    \n",
    "    display.clear_output()\n",
    "    \n",
    "    # first time welcomes the player, then sets first time to false\n",
    "    if ft:\n",
    "        print('Welcome to BlackJack!')\n",
    "        ft = False\n",
    "    \n",
    "    # creates a slider from 1 to maximum of chips to ask for a bet,then press the button to bet\n",
    "    print('How much do you want to bet?')\n",
    "    print(f'You have {chips.total} chips')\n",
    "    slidera = widgets.IntSlider(value=(chips.total)/3,min=1,max=chips.total)\n",
    "    buttonc = widgets.Button(description='Make Bet',button_style='info') \n",
    "    display.display(slidera)\n",
    "    display.display(buttonc)\n",
    "    buttonc.on_click(on_button_clicked_c)\n",
    "    "
   ]
  },
  {
   "cell_type": "code",
   "execution_count": 244,
   "metadata": {},
   "outputs": [],
   "source": [
    "def take_bet():\n",
    "    global slidera, buttonc, bet, player, dealer\n",
    "    #closes the slider, prints the value being bet and starts the player rounds\n",
    "    chips.bet = slidera.value\n",
    "    slidera.close()\n",
    "    buttonc.close()\n",
    "    display.clear_output()\n",
    "    print(f'You are betting {slidera.value} chips')\n",
    "    player_rounds()\n",
    "    \n"
   ]
  },
  {
   "cell_type": "code",
   "execution_count": 345,
   "metadata": {},
   "outputs": [],
   "source": [
    "def show_some(player,dealer):\n",
    "    #creates a list to print the cards in hand and adds 'soft' or 'hard' before the value if needed\n",
    "    global insurance_card\n",
    "    \n",
    "    listplayer = []\n",
    "    for i in player.cards:\n",
    "        listplayer.append(i)\n",
    "    print('\\nYou have the following cards:\\n')\n",
    "    for i in listplayer:\n",
    "        print(i)\n",
    "    # find if soft or hard\n",
    "    if 12 <= player.value <= 20 and player.aces == 1:\n",
    "        print(f\"Value = 'Soft' {player.value}\")\n",
    "    elif 12 <= player.value <= 20 and player.aces == 0:\n",
    "        print(f\"Value = 'Hard' {player.value}\")\n",
    "    else:\n",
    "        print(f\"Value = {player.value}\")\n",
    "    \n",
    "    # same for the dealer but no need of 'soft' or 'hard'. Instead, keeps one of the cards hidden \n",
    "    listdealer = []\n",
    "    for i in dealer.cards:\n",
    "        listdealer.append(i)\n",
    "    print('\\n\\nDealer has the following cards:\\n')\n",
    "    print('Hole card')\n",
    "    for i in listdealer[1::]:\n",
    "        insurance_card = i\n",
    "        print(i)\n",
    "        holevalue = i.value\n",
    "    print(f'Value = {holevalue} + X')\n",
    "    print('\\n\\n')"
   ]
  },
  {
   "cell_type": "code",
   "execution_count": 246,
   "metadata": {},
   "outputs": [],
   "source": [
    "def show_all(player,dealer):\n",
    "    \n",
    "    # to use when round ends, just a list of cards in both hands\n",
    "    \n",
    "    listplayer = []\n",
    "    for i in player.cards:\n",
    "        listplayer.append(i)\n",
    "    \n",
    "    listdealer = []\n",
    "    for i in dealer.cards:\n",
    "        listdealer.append(i)\n",
    "        \n",
    "    print(f'\\nYour value is {player.value} and has the following cards:\\n')\n",
    "    for i in listplayer:\n",
    "        print(i)\n",
    "    print(f'\\n\\nDealer value is {dealer.value} and has the following cards:\\n')\n",
    "    for i in listdealer:\n",
    "        print(i)\n",
    "    print('\\n\\n')"
   ]
  },
  {
   "cell_type": "code",
   "execution_count": 247,
   "metadata": {},
   "outputs": [],
   "source": [
    "def player_rounds():\n",
    "    global player, shoe, dealer\n",
    "    \n",
    "    # checks every time for different scenarios: blackjack, bust, 21. If not one of them, asks player next move\n",
    "    if player.value == 21 and len(player.cards) == 2 and dealer.value != 21:\n",
    "        display.clear_output()\n",
    "        blackjack_win(player, chips)\n",
    "    elif player.value < 21:\n",
    "        hit_or_stand()\n",
    "    elif player.value > 21:\n",
    "        display.clear_output()\n",
    "        player_busts(player, chips)\n",
    "    elif player.value == 21 and len(player.cards) != 2:\n",
    "        display.clear_output()\n",
    "        dealer_rounds()\n",
    "    "
   ]
  },
  {
   "cell_type": "code",
   "execution_count": 248,
   "metadata": {},
   "outputs": [],
   "source": [
    "def dealer_rounds():\n",
    "    global player, shoe, dealer, chips, bet\n",
    "    \n",
    "    # dealer takes cards until value reaches 17 or more, then stops\n",
    "    while dealer.value < 17 :\n",
    "        hit(shoe, dealer)\n",
    "        \n",
    "    # checks different ending scenarios: win, bust, lost, push\n",
    "    if player.value > dealer.value:\n",
    "        display.clear_output()\n",
    "        player_wins(player,dealer,chips)\n",
    "    elif dealer.value > player.value and dealer.value < 21:\n",
    "        display.clear_output()\n",
    "        dealer_wins(player, dealer, chips)\n",
    "    elif dealer.value > 21:\n",
    "        display.clear_output()\n",
    "        dealer_busts(player, dealer, chips)\n",
    "    elif player.value == dealer.value:\n",
    "        display.clear_output()\n",
    "        push(player, dealer)\n",
    "    elif dealer.value == 21:\n",
    "        display.clear_output()\n",
    "        dealer_wins(player, dealer, chips)"
   ]
  },
  {
   "cell_type": "code",
   "execution_count": 352,
   "metadata": {},
   "outputs": [],
   "source": [
    "def hit_or_stand():\n",
    "    global buttond,buttone, player, dealer, buttonh, buttonj, buttonm, buttonp, insurance_card\n",
    "    \n",
    "    # with buttons, asks the player next move. Hit, stand or double down\n",
    "    show_some(player, dealer)\n",
    "    buttond = widgets.Button(description='Hit',button_style='info')\n",
    "    buttone = widgets.Button(description='Stand',button_style='info')\n",
    "    buttonh = widgets.Button(description='Double Down',button_style='info')\n",
    "    display.display(buttond)\n",
    "    display.display(buttone)\n",
    "    display.display(buttonh)\n",
    "    buttond.on_click(on_button_clicked_d)\n",
    "    buttone.on_click(on_button_clicked_e)\n",
    "    buttonh.on_click(on_button_clicked_h)\n",
    "    \n",
    "    # if first round is a pair of anything but aces, it shows the button to split\n",
    "    if len(player.cards) == 2 and player.aces == 0 and (player.cards)[0].value == (player.cards[1]).value:\n",
    "        buttonj = widgets.Button(description='Split',button_style='info')\n",
    "        display.display(buttonj)\n",
    "        buttonj.on_click(on_button_clicked_j)\n",
    "        \n",
    "    # if first round, option to surrender\n",
    "    if len(player.cards) == 2:\n",
    "        buttonm = widgets.Button(description='Surrender',button_style='info')\n",
    "        display.display(buttonm)\n",
    "        buttonm.on_click(on_button_clicked_m)\n",
    "        \n",
    "    # if dealer is showing and ace, gives the option to bet that dealer has a blackjack, pays 2:1\n",
    "    \n",
    "        "
   ]
  },
  {
   "cell_type": "code",
   "execution_count": 250,
   "metadata": {},
   "outputs": [],
   "source": [
    "def hit(shoe,hand):\n",
    "    \n",
    "    # takes a card from the shoe and adds it to the selected hand\n",
    "    hitcard = shoe.deal()\n",
    "    hand.add_card(hitcard)\n",
    "    hand.adjust_for_ace()"
   ]
  },
  {
   "cell_type": "code",
   "execution_count": 251,
   "metadata": {},
   "outputs": [],
   "source": [
    "def double_down_hit():\n",
    "    global buttoni, chips\n",
    "    \n",
    "    # doubles the bet and shows button to hit\n",
    "    chips.bet = (chips.bet)*2\n",
    "    print(f'Bet has been doubled. Now betting {chips.bet} chips')\n",
    "    show_some(player, dealer)\n",
    "    buttoni = widgets.Button(description='Hit',button_style='info')\n",
    "    display.display(buttoni)\n",
    "    buttoni.on_click(on_button_clicked_i)\n",
    "    \n",
    "    \n",
    "    "
   ]
  },
  {
   "cell_type": "code",
   "execution_count": 252,
   "metadata": {},
   "outputs": [],
   "source": [
    "def double_down_stand(shoe, player):\n",
    "    global dealer, chips, buttone\n",
    "    \n",
    "    # cheks for bust and if not, shows stand button\n",
    "    if player.value > 21:\n",
    "        display.clear_output()\n",
    "        player_busts(player, chips)\n",
    "    \n",
    "    elif player.value == 21:\n",
    "        display.clear_output()\n",
    "        dealer_rounds()\n",
    "    \n",
    "    elif player.value < 21:\n",
    "        display.clear_output()\n",
    "        show_some(player,dealer)\n",
    "        buttone = widgets.Button(description='Stand',button_style='info')\n",
    "        display.display(buttone)\n",
    "        buttone.on_click(on_button_clicked_e)\n",
    "    "
   ]
  },
  {
   "cell_type": "code",
   "execution_count": 253,
   "metadata": {},
   "outputs": [],
   "source": [
    "def player_wins(player, dealer, chips):\n",
    "    \n",
    "    # prints that playes has won and adds bet to the player's chips. Then asks to play again or not\n",
    "    if player.value == 21:\n",
    "        print(f\"You win! Your cards value is exactly 21 and Dealer's cards value is {dealer.value}\")\n",
    "        chips.win_bet()\n",
    "        print(f'You have now {chips.total} chips')\n",
    "        ask_for_playagain()\n",
    "    \n",
    "    elif player.value > dealer.value and player.value < 21:\n",
    "        print(f\"You win! Your cards value is {player.value} and Dealer's cards value is {dealer.value} \")\n",
    "        chips.win_bet()\n",
    "        print(f'You have now {chips.total} chips')\n",
    "        ask_for_playagain()"
   ]
  },
  {
   "cell_type": "code",
   "execution_count": 254,
   "metadata": {},
   "outputs": [],
   "source": [
    "def blackjack_win(player, chips):\n",
    "    \n",
    "    # prints blackjack win and adds the special bet price to player's chips. Then asks to play again or not\n",
    "    print('Blackjack! You win 3/2')\n",
    "    chips.blackjack_bet()\n",
    "    ask_for_playagain()"
   ]
  },
  {
   "cell_type": "code",
   "execution_count": 255,
   "metadata": {},
   "outputs": [],
   "source": [
    "def player_busts(player,chips):\n",
    "    \n",
    "    # prints that player has lost and remove the bet from player's chips. Then asks to play again or not\n",
    "    print(f\"You lose. Your cards value is {player.value}. Dealer wins\")\n",
    "    chips.lose_bet()\n",
    "    print(f'You have  now {chips.total} chips')\n",
    "    ask_for_playagain()"
   ]
  },
  {
   "cell_type": "code",
   "execution_count": 256,
   "metadata": {},
   "outputs": [],
   "source": [
    "def dealer_wins(player, dealer, chips):\n",
    "    \n",
    "    # prints that dealer won and adjust the player's chips. Then asks to play again or not\n",
    "    if dealer.value == 21:\n",
    "        print(\"Dealer wins. Dealer's cards value is exactly 21.\")\n",
    "        chips.lose_bet()\n",
    "        print(f'You have now {chips.total} chips')\n",
    "        ask_for_playagain()\n",
    "    \n",
    "    elif dealer.value > player.value and dealer.value < 21:\n",
    "        print(f\"You lose. Your cards value is {player.value} and Dealer's cards value is {dealer.value}\")\n",
    "        chips.lose_bet()\n",
    "        print(f'You have now {chips.total} chips')\n",
    "        ask_for_playagain()"
   ]
  },
  {
   "cell_type": "code",
   "execution_count": 257,
   "metadata": {},
   "outputs": [],
   "source": [
    "def dealer_busts(player, dealer, chips):\n",
    "    \n",
    "    # prints that dealer busted and adjusts the chips. Then asks to play again or not\n",
    "    print(f\"You win! Your cards value is {player.value} and Dealer's cards value is {dealer.value}\")\n",
    "    chips.win_bet()\n",
    "    print(f'You have now {chips.total} chips')\n",
    "    ask_for_playagain()"
   ]
  },
  {
   "cell_type": "code",
   "execution_count": 258,
   "metadata": {},
   "outputs": [],
   "source": [
    "def push(player, dealer):\n",
    "    \n",
    "    # prints player and dealer tied and then asks to play again or not\n",
    "    print(f'Push! You and Dealer tie.{player.value}/{dealer.value} Bet is returned')\n",
    "    print(f'You have {chips.total} chips')\n",
    "    ask_for_playagain()"
   ]
  },
  {
   "cell_type": "code",
   "execution_count": 259,
   "metadata": {},
   "outputs": [],
   "source": [
    "def ask_for_playagain():\n",
    "    global buttonf, buttong\n",
    "    \n",
    "    # if no more chips, game is over, else, asks the player to play again or not\n",
    "    if chips.total == 0:\n",
    "        print('GAME OVER. You ran out of chips. Thanks for playing')\n",
    "    else:\n",
    "        print('\\nPlay again?')\n",
    "        buttonf = widgets.Button( description='Yes', button_style='info')\n",
    "        buttong = widgets.Button( description='No', button_style='info')\n",
    "        display.display(buttonf)\n",
    "        display.display(buttong)\n",
    "        buttonf.on_click(on_button_clicked_f)\n",
    "        buttong.on_click(on_button_clicked_g)"
   ]
  },
  {
   "cell_type": "code",
   "execution_count": null,
   "metadata": {},
   "outputs": [],
   "source": []
  },
  {
   "cell_type": "code",
   "execution_count": null,
   "metadata": {},
   "outputs": [],
   "source": []
  },
  {
   "cell_type": "code",
   "execution_count": null,
   "metadata": {},
   "outputs": [],
   "source": []
  },
  {
   "cell_type": "code",
   "execution_count": 260,
   "metadata": {},
   "outputs": [],
   "source": [
    "def player_rounds_main():\n",
    "    global player, shoe, dealer\n",
    "    \n",
    "    if player.value >= 21:\n",
    "        display.clear_output()\n",
    "        player_rounds_secondary()\n",
    "    elif player.value < 21:\n",
    "        hit_or_stand_player()\n",
    "   "
   ]
  },
  {
   "cell_type": "code",
   "execution_count": 261,
   "metadata": {},
   "outputs": [],
   "source": [
    "def player_rounds_secondary():\n",
    "    global player, secondaryplayer, shoe, dealer\n",
    "    \n",
    "    if secondaryplayer.value == 21:\n",
    "        display.clear_output()\n",
    "        dealer_rounds_split()\n",
    "    elif secondaryplayer.value > 21:\n",
    "        display.clear_output()\n",
    "        dealer_rounds_split()\n",
    "    elif secondaryplayer.value < 21:\n",
    "        display.clear_output()\n",
    "        hit_or_stand_secondaryplayer()"
   ]
  },
  {
   "cell_type": "code",
   "execution_count": 262,
   "metadata": {},
   "outputs": [],
   "source": [
    "def dealer_rounds_split():\n",
    "    global dealer, shoe\n",
    "    \n",
    "    # dealer takes cards until value reaches 17 or more, then stops\n",
    "    while dealer.value < 17 :\n",
    "        hit(shoe, dealer)\n",
    "    show_all_split()\n",
    "    checks_endround_split()"
   ]
  },
  {
   "cell_type": "code",
   "execution_count": 302,
   "metadata": {},
   "outputs": [],
   "source": [
    "def hit_or_stand_player():\n",
    "    global buttonk, buttonl, buttonm\n",
    "    \n",
    "    # with buttons, asks the main player next move. Hit, stand or double down\n",
    "    show_some_split()\n",
    "    print('PLAYING MAIN HAND')\n",
    "    buttonk = widgets.Button(description='Hit',button_style='info')\n",
    "    buttonl = widgets.Button(description='Stand',button_style='info')\n",
    "    display.display(buttonk)\n",
    "    display.display(buttonl)\n",
    "    buttonk.on_click(on_button_clicked_k)\n",
    "    buttonl.on_click(on_button_clicked_l)"
   ]
  },
  {
   "cell_type": "code",
   "execution_count": 301,
   "metadata": {},
   "outputs": [],
   "source": [
    "def hit_or_stand_secondaryplayer():\n",
    "    global buttonn, buttono, buttonp\n",
    "    \n",
    "    #with buttons, asks the split player next move. Hit, stand or double down\n",
    "    show_some_split()\n",
    "    print('PLAYING SPLIT HAND')\n",
    "    buttonn = widgets.Button(description='Hit',button_style='info')\n",
    "    buttono = widgets.Button(description='Stand',button_style='info')\n",
    "    display.display(buttonn)\n",
    "    display.display(buttono)\n",
    "    buttonn.on_click(on_button_clicked_n)\n",
    "    buttono.on_click(on_button_clicked_o)"
   ]
  },
  {
   "cell_type": "code",
   "execution_count": 265,
   "metadata": {},
   "outputs": [],
   "source": [
    "def show_some_split():\n",
    "    global player, secondaryplayer, dealer\n",
    "    \n",
    "    #creates a list to print the cards in hand and adds 'soft' or 'hard' before the value if needed\n",
    "    listplayer = []\n",
    "    for i in player.cards:\n",
    "        listplayer.append(i)\n",
    "    print('\\nYour main hand has the following cards:\\n')\n",
    "    for i in listplayer:\n",
    "        print(i)\n",
    "    # find if soft or hard\n",
    "    if 12 <= player.value <= 20 and player.aces == 1:\n",
    "        print(f\"Value = 'Soft' {player.value}\")\n",
    "    elif 12 <= player.value <= 20 and player.aces == 0:\n",
    "        print(f\"Value = 'Hard' {player.value}\")\n",
    "    else:\n",
    "        print(f\"Value = {player.value}\")\n",
    "    \n",
    "    \n",
    "    #repeat process to show secondary hand( split hand)\n",
    "    listsecondaryplayer = []\n",
    "    for i in secondaryplayer.cards:\n",
    "        listsecondaryplayer.append(i)\n",
    "    print('\\nYour split hand has the following cards:\\n')\n",
    "    for i in listsecondaryplayer:\n",
    "        print(i)\n",
    "    \n",
    "    if 12 <= secondaryplayer.value <= 20 and secondaryplayer.aces == 1:\n",
    "        print(f\"Value = 'Soft' {secondaryplayer.value}\")\n",
    "    elif 12 <= secondaryplayer.value <= 20 and secondaryplayer.aces == 0:\n",
    "        print (f\"Value = 'Hard' {secondaryplayer.value}\")\n",
    "    else:\n",
    "        print(f\"Value = {secondaryplayer.value}\")\n",
    "    \n",
    "    \n",
    "    # same for the dealer but no need of 'soft' or 'hard'. Instead, keeps one of the cards hidden \n",
    "    listdealer = []\n",
    "    for i in dealer.cards:\n",
    "        listdealer.append(i)\n",
    "    print('\\n\\nDealer has the following cards:\\n')\n",
    "    print('Hole card')\n",
    "    for i in listdealer[1::]:\n",
    "        print(i)\n",
    "        holevalue = i.value\n",
    "    print(f'Value = {holevalue} + X')\n",
    "    print('\\n\\n')"
   ]
  },
  {
   "cell_type": "code",
   "execution_count": 297,
   "metadata": {},
   "outputs": [],
   "source": [
    "def show_all_split():\n",
    "    global player, secondaryplayer, dealer\n",
    "    \n",
    "    #creates a list to print the cards in hand and adds 'soft' or 'hard' before the value if needed\n",
    "    listplayer = []\n",
    "    for i in player.cards:\n",
    "        listplayer.append(i)\n",
    "    print('\\nYour main hand has the following cards:\\n')\n",
    "    for i in listplayer:\n",
    "        print(i)\n",
    "    # find if soft or hard\n",
    "    if 12 <= player.value <= 20 and player.aces == 1:\n",
    "        print(f\"Value = 'Soft' {player.value}\")\n",
    "    elif 12 <= player.value <= 20 and player.aces == 0:\n",
    "        print(f\"Value = 'Hard' {player.value}\")\n",
    "    else:\n",
    "        print(f\"Value = {player.value}\")\n",
    "    \n",
    "    \n",
    "    #repeat process to show secondary hand( split hand)\n",
    "    listsecondaryplayer = []\n",
    "    for i in secondaryplayer.cards:\n",
    "        listsecondaryplayer.append(i)\n",
    "    print('\\nYour split hand has the following cards:\\n')\n",
    "    for i in listsecondaryplayer:\n",
    "        print(i)\n",
    "    \n",
    "    if 12 <= secondaryplayer.value <= 20 and secondaryplayer.aces == 1:\n",
    "        print(f\"Value = 'Soft' {secondaryplayer.value}\")\n",
    "    elif 12 <= secondaryplayer.value <= 20 and secondaryplayer.aces == 0:\n",
    "        print (f\"Value = 'Hard' {secondaryplayer.value}\")\n",
    "    else:\n",
    "        print(f\"Value = {secondaryplayer.value}\")\n",
    "    \n",
    "    \n",
    "    # same for the dealer but no need of 'soft' or 'hard'. \n",
    "    listdealer = []\n",
    "    for i in dealer.cards:\n",
    "        listdealer.append(i)\n",
    "    print('\\n\\nDealer has the following cards:\\n')\n",
    "    for i in listdealer:\n",
    "        print(i)\n",
    "    print(f'Value = {dealer.value}')\n",
    "    print('\\n\\n')"
   ]
  },
  {
   "cell_type": "code",
   "execution_count": 333,
   "metadata": {},
   "outputs": [],
   "source": [
    "def checks_endround_split():\n",
    "    global chips, player, secondaryplayer, dealer\n",
    "    \n",
    "    print('')\n",
    "    \n",
    "    if dealer.value < player.value <= 21 and dealer.value < secondaryplayer.value <= 21:\n",
    "        print('Both hands win')\n",
    "        chips.total = chips.total + chips.bet*2\n",
    "        \n",
    "    elif dealer.value < player.value <= 21 and secondaryplayer.value > 21:\n",
    "        print('Main hand wins. Split hand busted')\n",
    "        \n",
    "    \n",
    "    elif dealer.value < secondaryplayer.value <= 21 and player.value > 21:\n",
    "        print('Split hand wins. Main hand busted')\n",
    "    \n",
    "    \n",
    "    elif player.value > 21 and secondaryplayer.value > 21:\n",
    "        print('Both hands busted')\n",
    "        chips.total = chips.total - chips.bet*2\n",
    "    \n",
    "    \n",
    "    elif player.value == secondaryplayer.value == dealer.value <= 21:\n",
    "        print('Both hands push with dealer')\n",
    "        \n",
    "    \n",
    "    elif dealer.value < player.value <= 21 and dealer.value == secondaryplayer.value:\n",
    "        print('Main hands wins. Split hand pushes with dealer')\n",
    "        chips.total = chips.total + chips.bet\n",
    "        \n",
    "    \n",
    "    elif dealer.value < secondaryplayer.value <= 21 and dealer.value == player.value:\n",
    "        print('Split hand wins. Main hand pushes with dealer')\n",
    "        chips.total = chips.total + chips.bet\n",
    "    \n",
    "    \n",
    "    elif secondaryplayer.value < player.value == dealer.value <= 21:\n",
    "        print('Main hand pushes with dealer. Secondary hand loses')\n",
    "        chips.total = chips.total - chips.bet\n",
    "        \n",
    "    \n",
    "    elif player.value < secondaryplayer.value == dealer.value <= 21:\n",
    "        print('Secondary hand pushes with dealer. Main hand loses')\n",
    "        chips.total = chips.total - chips.bet\n",
    "        \n",
    "    \n",
    "    elif player.value == dealer.value <= 21 and secondaryplayer.value > 21:\n",
    "        print('Main hand pushes with dealer. Split hand busted')\n",
    "        chips.total = chips.total - chips.bet\n",
    "        \n",
    "    \n",
    "    elif secondaryplayer.value == dealer.value <= 21 and player.value > 21:\n",
    "        print('Split hand pushes with dealer. Main hand busted')\n",
    "        chips.total = chips.total - chips.bet\n",
    "        \n",
    "    \n",
    "    elif player.value < dealer.value <= 21 and  secondaryplayer.value < dealer.value <= 21:\n",
    "        print('Both hands lose. Dealer wins')\n",
    "        chips.total = chips.total - chips.bet*2\n",
    "        \n",
    "    \n",
    "    elif secondaryplayer.value < dealer.value < player.value <= 21:\n",
    "        print('Main hand wins. Split hand loses')\n",
    "        \n",
    "    \n",
    "    elif player.value < dealer.value < secondaryplayer.value <= 21:\n",
    "        print('Split hand wins. Main hand loses')\n",
    "    \n",
    "    \n",
    "    elif player.value <= 21 and secondaryplayer.value > 21 and dealer.value > 21:\n",
    "        print('Main hand wins. Split hand and dealer busted')\n",
    "        \n",
    "    \n",
    "    elif secondaryplayer.value <= 21 and player.value > 21 and dealer.value > 21:\n",
    "        print('Split hand wins. Main hand and dealer busted')\n",
    "        \n",
    "    \n",
    "    elif player.value <= 21 and secondaryplayer.value <= 21 and dealer.value > 21:\n",
    "        print('Both hands win. Dealer busted')\n",
    "        chips.total = chips.total + chips.bet*2\n",
    "    \n",
    "    \n",
    "    elif secondaryplayer.value > 21 and player.value < dealer.value <= 21:\n",
    "        print('Main hand loses. Split hand busted')\n",
    "        chips.total = chips.total - chips.bet*2\n",
    "    \n",
    "    \n",
    "    elif player.value > 21 and secondaryplayer.value < dealer.value <= 21:\n",
    "        print('Main hand busted. Split hand loses')\n",
    "        chips.total = chips.total - chips.bet*2\n",
    "    \n",
    "    \n",
    "    else:\n",
    "        print('End not recognized. Sorry for the incovenience. Nothing will happen')\n",
    "        \n",
    "    \n",
    "    \n",
    "    print(f'\\nYou have {chips.total} chips')\n",
    "    ask_for_playagain()\n",
    "        \n",
    "        \n",
    "    "
   ]
  },
  {
   "cell_type": "code",
   "execution_count": null,
   "metadata": {},
   "outputs": [],
   "source": []
  },
  {
   "cell_type": "code",
   "execution_count": null,
   "metadata": {},
   "outputs": [],
   "source": []
  },
  {
   "cell_type": "code",
   "execution_count": null,
   "metadata": {},
   "outputs": [],
   "source": []
  },
  {
   "cell_type": "code",
   "execution_count": 268,
   "metadata": {},
   "outputs": [],
   "source": [
    "def on_button_clicked_a(b):\n",
    "    # button a for starting the game\n",
    "    buttona.close()\n",
    "    buttonb.close()\n",
    "    initialize_game()"
   ]
  },
  {
   "cell_type": "code",
   "execution_count": 269,
   "metadata": {},
   "outputs": [],
   "source": [
    "def on_button_clicked_b(b):\n",
    "    # button b to quit playing\n",
    "    print('Thanks for playing!')\n",
    "    buttona.close()\n",
    "    buttonb.close()"
   ]
  },
  {
   "cell_type": "code",
   "execution_count": 270,
   "metadata": {},
   "outputs": [],
   "source": [
    "def on_button_clicked_c(b):\n",
    "    # button c to place the bet showing in the slider at the moment of clicking\n",
    "    slidera.close()\n",
    "    buttonc.close()\n",
    "    take_bet()"
   ]
  },
  {
   "cell_type": "code",
   "execution_count": 271,
   "metadata": {},
   "outputs": [],
   "source": [
    "def on_button_clicked_d(b):\n",
    "    global shoe, player\n",
    "    # button d to hit\n",
    "    hit(shoe,player)\n",
    "    buttond.close()\n",
    "    buttone.close()\n",
    "    display.clear_output()\n",
    "    player_rounds()\n",
    "    "
   ]
  },
  {
   "cell_type": "code",
   "execution_count": 272,
   "metadata": {},
   "outputs": [],
   "source": [
    "def on_button_clicked_e(b):\n",
    "    # button e to stand\n",
    "    buttond.close()\n",
    "    buttone.close()\n",
    "    display.clear_output()\n",
    "    dealer_rounds()\n",
    "    \n",
    "    "
   ]
  },
  {
   "cell_type": "code",
   "execution_count": 273,
   "metadata": {},
   "outputs": [],
   "source": [
    "def on_button_clicked_f(b):\n",
    "    # button f to play again next round\n",
    "    buttonf.close()\n",
    "    buttong.close()\n",
    "    display.clear_output()\n",
    "    initialize_game()\n",
    "    "
   ]
  },
  {
   "cell_type": "code",
   "execution_count": 274,
   "metadata": {},
   "outputs": [],
   "source": [
    "def on_button_clicked_g(b):\n",
    "    # button g to quit playing after being played at least one round\n",
    "    buttonf.close()\n",
    "    buttong.close()\n",
    "    display.clear_output()\n",
    "    print(f'Thanks for playing. You leave with {chips.total} chips.')"
   ]
  },
  {
   "cell_type": "code",
   "execution_count": 275,
   "metadata": {},
   "outputs": [],
   "source": [
    "def on_button_clicked_h(b):\n",
    "    # button h to double down\n",
    "    buttond.close()\n",
    "    buttone.close()\n",
    "    buttonh.close()\n",
    "    display.clear_output()\n",
    "    double_down_hit()"
   ]
  },
  {
   "cell_type": "code",
   "execution_count": 276,
   "metadata": {},
   "outputs": [],
   "source": [
    "def on_button_clicked_i(b):\n",
    "    # button i to hit in case of double down\n",
    "    buttoni.close()\n",
    "    display.clear_output()\n",
    "    hit(shoe, player)\n",
    "    double_down_stand(shoe,player)"
   ]
  },
  {
   "cell_type": "code",
   "execution_count": 277,
   "metadata": {},
   "outputs": [],
   "source": [
    "def on_button_clicked_j(b):\n",
    "    global secondaryplayer, secondarybet\n",
    "    #button j creates splithand and draws two cards adjusting for aces, crates splitbet and starts the splitgame\n",
    "    buttonj.close()\n",
    "    display.clear_output()\n",
    "    secondaryplayer = Hand()\n",
    "    secondarybet = chips.bet\n",
    "    secondaryplayer.add_card(shoe.deal())\n",
    "    secondaryplayer.add_card(shoe.deal())\n",
    "    secondaryplayer.adjust_for_ace()\n",
    "    player_rounds_main()"
   ]
  },
  {
   "cell_type": "code",
   "execution_count": 278,
   "metadata": {},
   "outputs": [],
   "source": [
    "def on_button_clicked_k(b):\n",
    "    global shoe, player\n",
    "    # button d to hit main hand\n",
    "    hit(shoe,player)\n",
    "    display.clear_output()\n",
    "    player_rounds_main()"
   ]
  },
  {
   "cell_type": "code",
   "execution_count": 279,
   "metadata": {},
   "outputs": [],
   "source": [
    "def on_button_clicked_l(b):\n",
    "    # button l to stand in main hand\n",
    "    display.clear_output()\n",
    "    player_rounds_secondary()"
   ]
  },
  {
   "cell_type": "code",
   "execution_count": 281,
   "metadata": {},
   "outputs": [],
   "source": [
    "def on_button_clicked_n(b):\n",
    "    global shoe, secondaryplayer\n",
    "    # button n to hit for split hand\n",
    "    display.clear_output()\n",
    "    hit(shoe, secondaryplayer)\n",
    "    player_rounds_secondary()"
   ]
  },
  {
   "cell_type": "code",
   "execution_count": 282,
   "metadata": {},
   "outputs": [],
   "source": [
    "def on_button_clicked_o(b):\n",
    "    # button o to stand for split hand, goes to dealer_split\n",
    "    display.clear_output()\n",
    "    dealer_rounds_split()"
   ]
  },
  {
   "cell_type": "code",
   "execution_count": 343,
   "metadata": {},
   "outputs": [],
   "source": [
    "def on_button_clicked_m(b):\n",
    "    display.clear_output()\n",
    "    print('Player surrenders. Half of the bet returned')\n",
    "    chips.total = int(chips.total - chips.bet/2)\n",
    "    print(f'\\nYou have now {chips.total} chips ')\n",
    "    ask_for_playagain()"
   ]
  },
  {
   "cell_type": "code",
   "execution_count": 348,
   "metadata": {},
   "outputs": [],
   "source": [
    "def on_button_clicked_p(b):\n",
    "    display.clear_output()\n",
    "    if dealer.value == 21:\n",
    "        chips.total = chips.total + chips.bet*2\n",
    "        print(f'Dealer has a blackjack! Insurance pays double the bet.\\nYou have now {chips.total} chips')\n",
    "    else:\n",
    "        chips.total = chips.total - chips.bet\n",
    "        print(f\"Dealer doesn't have a blackjack! You lose the bet.\\n You have now {chips.total} chips\")\n",
    "    ask_for_playagain()"
   ]
  },
  {
   "cell_type": "code",
   "execution_count": null,
   "metadata": {},
   "outputs": [],
   "source": []
  },
  {
   "cell_type": "code",
   "execution_count": null,
   "metadata": {},
   "outputs": [],
   "source": []
  },
  {
   "cell_type": "code",
   "execution_count": null,
   "metadata": {},
   "outputs": [],
   "source": []
  },
  {
   "cell_type": "code",
   "execution_count": 284,
   "metadata": {},
   "outputs": [],
   "source": [
    "def start_playing():\n",
    "    global buttona, buttonb, audio\n",
    "    \n",
    "    # shows the first main buttons and some info\n",
    "    \n",
    "    print('BACKJACK 0.3  (Now with real casino rules!)')\n",
    "    #audio\n",
    "    display.display(buttona)\n",
    "    display.display(buttonb) \n",
    "    buttona.on_click(on_button_clicked_a)\n",
    "    buttonb.on_click(on_button_clicked_b)\n",
    "    print('')\n",
    "    print('')\n",
    "    print('by jaume')\n",
    "    print('2020')\n",
    "    #play_audio()"
   ]
  },
  {
   "cell_type": "code",
   "execution_count": 285,
   "metadata": {
    "scrolled": true
   },
   "outputs": [],
   "source": [
    "def play():\n",
    "    global buttona, buttonb, chips, ft, audio\n",
    "\n",
    "    # to play for the first time. Initializes the chips, variable first time and  then starts\n",
    "    buttona = widgets.Button(description = 'Start playing!', button_style = 'info')\n",
    "    buttonb = widgets.Button(description = 'Quit', button_style = 'info')\n",
    "    chips = Chips()\n",
    "    ft = True\n",
    "    start_playing()\n",
    "    "
   ]
  },
  {
   "cell_type": "code",
   "execution_count": 286,
   "metadata": {},
   "outputs": [],
   "source": [
    "def play_audio():\n",
    "    \n",
    "    # creates an audio object to play during the game\n",
    "    global audio\n",
    "    audio = display.Audio('8ball.wav', autoplay=True)\n",
    "    print('playing audio')\n",
    "    return audio"
   ]
  },
  {
   "cell_type": "code",
   "execution_count": null,
   "metadata": {},
   "outputs": [],
   "source": []
  },
  {
   "cell_type": "code",
   "execution_count": null,
   "metadata": {},
   "outputs": [],
   "source": []
  },
  {
   "cell_type": "code",
   "execution_count": null,
   "metadata": {},
   "outputs": [],
   "source": []
  },
  {
   "cell_type": "code",
   "execution_count": 377,
   "metadata": {},
   "outputs": [],
   "source": [
    "def chance_busting():\n",
    "    pass"
   ]
  },
  {
   "cell_type": "code",
   "execution_count": 376,
   "metadata": {},
   "outputs": [],
   "source": [
    "def suggested_move():\n",
    "    pass"
   ]
  },
  {
   "cell_type": "code",
   "execution_count": 375,
   "metadata": {},
   "outputs": [],
   "source": [
    "def count():\n",
    "    pass"
   ]
  },
  {
   "cell_type": "code",
   "execution_count": null,
   "metadata": {},
   "outputs": [],
   "source": []
  },
  {
   "cell_type": "code",
   "execution_count": 287,
   "metadata": {},
   "outputs": [],
   "source": [
    "#play_audio()"
   ]
  },
  {
   "cell_type": "code",
   "execution_count": null,
   "metadata": {},
   "outputs": [],
   "source": []
  },
  {
   "cell_type": "code",
   "execution_count": null,
   "metadata": {},
   "outputs": [],
   "source": []
  },
  {
   "cell_type": "code",
   "execution_count": null,
   "metadata": {},
   "outputs": [],
   "source": []
  },
  {
   "cell_type": "code",
   "execution_count": null,
   "metadata": {},
   "outputs": [],
   "source": []
  },
  {
   "cell_type": "code",
   "execution_count": null,
   "metadata": {},
   "outputs": [],
   "source": []
  },
  {
   "cell_type": "code",
   "execution_count": null,
   "metadata": {},
   "outputs": [],
   "source": []
  },
  {
   "cell_type": "code",
   "execution_count": null,
   "metadata": {},
   "outputs": [],
   "source": []
  },
  {
   "cell_type": "code",
   "execution_count": null,
   "metadata": {},
   "outputs": [],
   "source": []
  },
  {
   "cell_type": "code",
   "execution_count": null,
   "metadata": {},
   "outputs": [],
   "source": []
  },
  {
   "cell_type": "code",
   "execution_count": null,
   "metadata": {},
   "outputs": [],
   "source": []
  },
  {
   "cell_type": "code",
   "execution_count": null,
   "metadata": {},
   "outputs": [],
   "source": []
  },
  {
   "cell_type": "code",
   "execution_count": null,
   "metadata": {},
   "outputs": [],
   "source": []
  },
  {
   "cell_type": "code",
   "execution_count": 374,
   "metadata": {},
   "outputs": [
    {
     "name": "stdout",
     "output_type": "stream",
     "text": [
      "Thanks for playing. You leave with 166 chips.\n"
     ]
    }
   ],
   "source": [
    "play()"
   ]
  }
 ],
 "metadata": {
  "kernelspec": {
   "display_name": "Python 3",
   "language": "python",
   "name": "python3"
  },
  "language_info": {
   "codemirror_mode": {
    "name": "ipython",
    "version": 3
   },
   "file_extension": ".py",
   "mimetype": "text/x-python",
   "name": "python",
   "nbconvert_exporter": "python",
   "pygments_lexer": "ipython3",
   "version": "3.8.6"
  }
 },
 "nbformat": 4,
 "nbformat_minor": 4
}
