{
 "cells": [
  {
   "cell_type": "code",
   "execution_count": null,
   "metadata": {},
   "outputs": [],
   "source": [
    "#play()"
   ]
  },
  {
   "cell_type": "markdown",
   "metadata": {},
   "source": [
    "Welcome to Blackjack!\n",
    "\n",
    "Instructions: \n",
    "    \n",
    "    Click anywhere here in this text , then Cell -- > Run all Bellow\n",
    "    \n",
    "    Finally click on play() above and press Ctrl+Enter\n",
    "    "
   ]
  },
  {
   "cell_type": "code",
   "execution_count": null,
   "metadata": {},
   "outputs": [],
   "source": []
  },
  {
   "cell_type": "code",
   "execution_count": null,
   "metadata": {},
   "outputs": [],
   "source": []
  },
  {
   "cell_type": "code",
   "execution_count": null,
   "metadata": {},
   "outputs": [],
   "source": []
  },
  {
   "cell_type": "code",
   "execution_count": null,
   "metadata": {},
   "outputs": [],
   "source": []
  },
  {
   "cell_type": "code",
   "execution_count": null,
   "metadata": {},
   "outputs": [],
   "source": []
  },
  {
   "cell_type": "code",
   "execution_count": null,
   "metadata": {},
   "outputs": [],
   "source": []
  },
  {
   "cell_type": "code",
   "execution_count": null,
   "metadata": {},
   "outputs": [],
   "source": []
  },
  {
   "cell_type": "code",
   "execution_count": null,
   "metadata": {},
   "outputs": [],
   "source": []
  },
  {
   "cell_type": "code",
   "execution_count": null,
   "metadata": {},
   "outputs": [],
   "source": []
  },
  {
   "cell_type": "code",
   "execution_count": null,
   "metadata": {},
   "outputs": [],
   "source": []
  },
  {
   "cell_type": "code",
   "execution_count": null,
   "metadata": {},
   "outputs": [],
   "source": []
  },
  {
   "cell_type": "code",
   "execution_count": 312,
   "metadata": {},
   "outputs": [],
   "source": [
    "import random\n",
    "import ipywidgets as widgets\n",
    "from IPython import display\n",
    "import time\n",
    "import pdb\n",
    "from PIL import Image"
   ]
  },
  {
   "cell_type": "code",
   "execution_count": null,
   "metadata": {},
   "outputs": [],
   "source": []
  },
  {
   "cell_type": "code",
   "execution_count": null,
   "metadata": {},
   "outputs": [],
   "source": []
  },
  {
   "cell_type": "code",
   "execution_count": null,
   "metadata": {},
   "outputs": [],
   "source": []
  },
  {
   "cell_type": "code",
   "execution_count": 313,
   "metadata": {},
   "outputs": [],
   "source": [
    "# values to use lates to build the shoe\n",
    "\n",
    "suits = ('Hearts', 'Diamonds', 'Spades', 'Clubs')\n",
    "ranks = ('Ace','Two','Three','Four','Five', 'Six', 'Seven', 'Eight', 'Nine', 'Ten', 'Jack', 'Queen', 'King')\n",
    "values = {'Two':2, 'Three':3, 'Four':4, 'Five':5, 'Six':6, 'Seven':7, 'Eight':8,'Nine':9, 'Ten':10, 'Jack':10, \n",
    "         'Queen':10, 'King':10, 'Ace':11}"
   ]
  },
  {
   "cell_type": "code",
   "execution_count": null,
   "metadata": {},
   "outputs": [],
   "source": []
  },
  {
   "cell_type": "code",
   "execution_count": null,
   "metadata": {},
   "outputs": [],
   "source": []
  },
  {
   "cell_type": "code",
   "execution_count": 314,
   "metadata": {},
   "outputs": [],
   "source": [
    "class Card:\n",
    "    \n",
    "    def __init__(self, suit, rank):\n",
    "        # creates the card, with its value in self.value\n",
    "        self.suit = suit\n",
    "        self.rank = rank\n",
    "        self.value = values[rank]\n",
    "    \n",
    "    def __str__(self):\n",
    "        # creates a print to show the player via text\n",
    "        return self.rank + ' of ' + self.suit"
   ]
  },
  {
   "cell_type": "code",
   "execution_count": 315,
   "metadata": {},
   "outputs": [],
   "source": [
    "# open the image off all cards and makes the cuts for each card\n",
    "\n",
    "cards_deck = Image.open('Images/card_deck.png')\n",
    "h,w = cards_deck.size\n",
    "x = h/13\n",
    "y = w/5\n",
    "\n",
    "# makes every horizontal line of cards \n",
    "\n",
    "list_clubs = []\n",
    "b = 1\n",
    "\n",
    "for a in range(0,13):\n",
    "    list_clubs.append(cards_deck.crop((a*x,0*y,b*x,1*y)))\n",
    "    b += 1\n",
    "    \n",
    "list_diamonds = []\n",
    "b = 1\n",
    "\n",
    "for a in range(0,13):\n",
    "    list_diamonds.append(cards_deck.crop((a*x,1*y,b*x,2*y)))\n",
    "    b += 1\n",
    "    \n",
    "list_hearts = []\n",
    "b = 1\n",
    "\n",
    "for a in range(0,13):\n",
    "    list_hearts.append(cards_deck.crop((a*x,2*y,b*x,3*y)))\n",
    "    b += 1\n",
    "\n",
    "list_spades = []\n",
    "b = 1\n",
    "\n",
    "for a in range(0,13):\n",
    "    list_spades.append(cards_deck.crop((a*x,3*y,b*x,4*y)))\n",
    "    b += 1\n",
    "    \n",
    "# puts all cards in one list, in the order we have orginally and the resizes each card\n",
    "    \n",
    "cards_list_big = []\n",
    "cards_list_big.extend(list_hearts)\n",
    "cards_list_big.extend(list_diamonds)\n",
    "cards_list_big.extend(list_spades)\n",
    "cards_list_big.extend(list_clubs)\n",
    "\n",
    "cards_list = []\n",
    "for i in range(0,52):\n",
    "    card = cards_list_big[i].resize((65,100))\n",
    "    cards_list.append(card)\n",
    "    \n",
    "# makes the hole card ad resizes it\n",
    "\n",
    "hole_card_big = cards_deck.crop((2*x,4*y,3*x,5*y))\n",
    "hole_card = hole_card_big.resize((65,100))\n",
    "\n",
    "\n",
    "# creates a dictionary with keys being the strings of the card and keys the image object\n",
    "\n",
    "cards_list_str = []\n",
    "for suit in suits:\n",
    "    for rank in ranks:\n",
    "        card_str = Card(suit, rank).__str__()\n",
    "        cards_list_str.append(card_str)\n",
    "\n",
    "cards_dict = {}\n",
    "\n",
    "i = 0\n",
    "for card_str in cards_list_str:\n",
    "    cards_dict[card_str] = cards_list[i]\n",
    "    i += 1"
   ]
  },
  {
   "cell_type": "code",
   "execution_count": 316,
   "metadata": {},
   "outputs": [],
   "source": [
    "class Shoe:\n",
    "    global count\n",
    "    \n",
    "    def __init__(self):\n",
    "        # creates class shoe with 4 decks \n",
    "        self.shoe = []\n",
    "        i = 1\n",
    "        while i <= 4:\n",
    "            for suit in suits:\n",
    "                for rank in ranks:\n",
    "                    card = Card(suit, rank)\n",
    "                    self.shoe.append(card)\n",
    "            i += 1\n",
    "    \n",
    "    def __str__(self):\n",
    "        # just to check if shoe created correctly\n",
    "        shoe_comp = ''\n",
    "        for card in self.shoe:\n",
    "            shoe_comp += '\\n' + card.__str__()\n",
    "        return 'The shoe has:' + shoe_comp\n",
    "    \n",
    "    def shuffle(self):\n",
    "        # randomly shuffles the shoe\n",
    "        random.shuffle(self.shoe)\n",
    "        \n",
    "    def deal(self):\n",
    "        global count\n",
    "        # takes one card from the shoe\n",
    "        # updates count\n",
    "        \n",
    "        dealed_card = self.shoe.pop()\n",
    "        \n",
    "        count.count_update(dealed_card)\n",
    "        \n",
    "        return dealed_card\n",
    "    \n",
    "    def shoelist(self):\n",
    "        # to check the list and how many cards are in the shoe\n",
    "        return self.shoe"
   ]
  },
  {
   "cell_type": "code",
   "execution_count": 317,
   "metadata": {},
   "outputs": [],
   "source": [
    "class Hand:\n",
    "    def __init__(self):\n",
    "        # creates hand, with value and keep track of aces for 1 or 11 value and for 'soft' or 'hand' value\n",
    "        self.cards = []  \n",
    "        self.value = 0   \n",
    "        self.aces = 0    \n",
    "    \n",
    "    def add_card(self,card):\n",
    "        # when card taken, add a card and the value. If card is ace, adds one ace to self.aces\n",
    "        self.cards.append(card)\n",
    "        self.value += card.value\n",
    "        if card.rank == 'Ace':\n",
    "            self.aces += 1\n",
    "    \n",
    "    def adjust_for_ace(self):\n",
    "        # adjusts the value of one ace to 1 if total is more than 21 and takes one ace out from tracking\n",
    "        while self.value > 21 and self.aces:\n",
    "            self.value -= 10\n",
    "            self.aces -= 1"
   ]
  },
  {
   "cell_type": "code",
   "execution_count": 318,
   "metadata": {},
   "outputs": [],
   "source": [
    "class Chips:\n",
    "    \n",
    "    def __init__(self):\n",
    "        # creates the chips. By default, player starts with 100 but that could be changed in future recoding\n",
    "        self.total = 100\n",
    "        self.bet = 0\n",
    "        \n",
    "    def win_bet(self):\n",
    "        # in case of wining, chips are increased by 1/1 gain/bet \n",
    "        self.total += self.bet\n",
    "    \n",
    "    def lose_bet(self):\n",
    "        # in case of losing, chips are decreased by 1/1 loss/bet\n",
    "        self.total -= self.bet\n",
    "        \n",
    "    def blackjack_bet(self):\n",
    "        # in case of winning with blackjack, chips are increased by 3/2 gain/bet\n",
    "        self.total = int(self.total*1.5)"
   ]
  },
  {
   "cell_type": "code",
   "execution_count": 319,
   "metadata": {},
   "outputs": [],
   "source": [
    "class Count:\n",
    "    # creates the count, adds o substracts one to total and prints the total\n",
    "    \n",
    "    def __init__(self):\n",
    "        self.total = 0\n",
    "        self.onevalue = 0\n",
    "        \n",
    "    def count_update(self, card):\n",
    "        c = card.__str__()\n",
    "        if 'Two' in c or 'Three' in c or 'Four' in c or 'Five' in c or 'Six' in c:\n",
    "            self.total += 1\n",
    "        elif 'Ten' in c or 'Jack' in c or 'Queen' in c or 'King' in c or 'Ace' in c:\n",
    "            self.total -= 1\n",
    "        \n",
    "    def __str__(self):\n",
    "        return 'Count : '+ str(self.total)\n",
    "        \n",
    "    def count_value(self, card):\n",
    "        c = card.__str__()\n",
    "        if 'Two' in c or 'Three' in c or 'Four' in c or 'Five' in c or 'Six' in c:\n",
    "            self.onevalue = 1\n",
    "        elif 'Ten' in c or 'Jack' in c or 'Queen' in c or 'King' in c or 'Ace' in c:\n",
    "            self.onevalue = -1\n"
   ]
  },
  {
   "cell_type": "code",
   "execution_count": null,
   "metadata": {},
   "outputs": [],
   "source": []
  },
  {
   "cell_type": "code",
   "execution_count": null,
   "metadata": {},
   "outputs": [],
   "source": []
  },
  {
   "cell_type": "code",
   "execution_count": 320,
   "metadata": {},
   "outputs": [],
   "source": [
    "def initialize_game():\n",
    "    global shoe, player, dealer, slidera, buttonc, ft, count\n",
    "    # ft means first time, in that case, creates a new shoe\n",
    "    betcount = count.total\n",
    "    if ft:\n",
    "        shoe = Shoe()\n",
    "        shoe.shuffle()\n",
    "    # also, if 25% or less remaining cards in the show, creates a new shoe and of course, a new count\n",
    "    elif len(shoe.shoelist()) <= 52:\n",
    "        shoe = Shoe()\n",
    "        shoe.shuffle()\n",
    "        count = Count()\n",
    "        print('Shoe has been shuffled')\n",
    "    \n",
    "    #creates new hands for player, dealer, takes two card for each and adjust for aces\n",
    "    player = Hand()\n",
    "    dealer = Hand()\n",
    "    player.add_card(shoe.deal())\n",
    "    player.add_card(shoe.deal())\n",
    "    player.adjust_for_ace()\n",
    "    dealer.add_card(shoe.deal())\n",
    "    dealer.add_card(shoe.deal())\n",
    "    dealer.adjust_for_ace()\n",
    "    \n",
    "    display.clear_output()\n",
    "    \n",
    "    # first time welcomes the player, then sets first time to false\n",
    "    if ft:\n",
    "        print('Welcome to BlackJack!')\n",
    "        ft = False\n",
    "    \n",
    "    chips_image = Image.open('Images/chips.jpeg')\n",
    "    display.display(chips_image.resize((300,200)))\n",
    "    \n",
    "    \n",
    "    # creates a slider from 1 to maximum of chips to ask for a bet,then press the button to bet\n",
    "    print('How much do you want to bet?')\n",
    "    print(f'You have {chips.total} chips')\n",
    "    slidera = widgets.IntSlider(value=(chips.total)/3,min=1,max=chips.total)\n",
    "    buttonc = widgets.Button(description='Make Bet',button_style='info') \n",
    "    display.display(slidera)\n",
    "    display.display(buttonc)\n",
    "    print('\\n')\n",
    "    print(f'Count : {betcount}')\n",
    "    buttonc.on_click(on_button_clicked_c)\n",
    "    "
   ]
  },
  {
   "cell_type": "code",
   "execution_count": 321,
   "metadata": {},
   "outputs": [],
   "source": [
    "def take_bet():\n",
    "    global slidera, buttonc, bet, player, dealer\n",
    "    #closes the slider, prints the value being bet and starts the player rounds\n",
    "    chips.bet = slidera.value\n",
    "    slidera.close()\n",
    "    buttonc.close()\n",
    "    display.clear_output()\n",
    "    print(f'You are betting {slidera.value} chips')\n",
    "    player_rounds()\n",
    "    \n"
   ]
  },
  {
   "cell_type": "code",
   "execution_count": 322,
   "metadata": {},
   "outputs": [],
   "source": [
    "def show_some(player,dealer):\n",
    "    #creates a list to print the cards in hand and adds 'soft' or 'hard' before the value if needed\n",
    "    global insurance_card, cards_dict, count, holecard\n",
    "    \n",
    "    listplayer = []\n",
    "    for i in player.cards:\n",
    "        listplayer.append(i)\n",
    "    print('\\nYou have the following cards:')\n",
    "    #for i in listplayer:\n",
    "    #    print(i)\n",
    "    \n",
    "    # creates a new image long as needed, and the pastes every card next to each other\n",
    "    l = len(listplayer)\n",
    "    new_im = Image.new('RGB', (65*l,100))\n",
    "    \n",
    "    i = 0\n",
    "    for item in listplayer:\n",
    "        new_im.paste(cards_dict[item.__str__()],(65*i,0))\n",
    "        i += 1\n",
    "        \n",
    "    display.display(new_im)\n",
    "    \n",
    "    \n",
    "    # find if soft or hard\n",
    "    if 12 <= player.value <= 20 and player.aces == 1:\n",
    "        print(f\"Value = 'Soft' {player.value}\")\n",
    "        print('Chance to bust: 0 %')\n",
    "    elif 12 <= player.value <= 20 and player.aces == 0:\n",
    "        print(f\"Value = 'Hard' {player.value}\")\n",
    "        print('\\n')\n",
    "        print('Chance to bust: ' + str(chance_busting(player, shoe))+ ' %')\n",
    "    else:\n",
    "        print(f\"Value = {player.value}\")\n",
    "        print('Chance to bust: 0%')\n",
    "    \n",
    "    \n",
    "    # same for the dealer but no need of 'soft' or 'hard'. Instead, shows first card as hole card \n",
    "    listdealer = []\n",
    "    for i in dealer.cards:\n",
    "        listdealer.append(i)\n",
    "    print('\\n\\nDealer has the following cards:')\n",
    "    \n",
    "    new_im = Image.new('RGB', (65*2,100))\n",
    "    \n",
    "    new_im.paste(hole_card,(0,0))\n",
    "    new_im.paste(cards_dict[listdealer[1].__str__()],(65,0))\n",
    "        \n",
    "    display.display(new_im)\n",
    "    \n",
    "    \n",
    "    #print('Hole card')\n",
    "    \n",
    "    holecard = listdealer[0]\n",
    "    insurance_card = listdealer[1]\n",
    "    holevalue = listdealer[1].value\n",
    "    print(f'Value = X + {holevalue}')\n",
    "    print('\\n')\n",
    "    \n",
    "    # prints current count value adjustin for the holecard\n",
    "    if len(listplayer) == 2:\n",
    "        count.count_value(holecard)\n",
    "        count.total = count.total - count.onevalue\n",
    "    print(count)\n",
    "    print('\\n')"
   ]
  },
  {
   "cell_type": "code",
   "execution_count": 323,
   "metadata": {},
   "outputs": [],
   "source": [
    "def show_all(player,dealer):\n",
    "    global insurance_card, count, holecard\n",
    "    \n",
    "    # to use when round ends, just a list of cards in both hands\n",
    "    listplayer = []\n",
    "    for i in player.cards:\n",
    "        listplayer.append(i)\n",
    "    print('\\nYou have the following cards:')\n",
    "    \n",
    "    # creates a new image long as needed, and the pastes every card next to each other\n",
    "    l = len(listplayer)\n",
    "    new_im = Image.new('RGB', (65*l,100))\n",
    "    \n",
    "    i = 0\n",
    "    for item in listplayer:\n",
    "        new_im.paste(cards_dict[item.__str__()],(65*i,0))\n",
    "        i += 1\n",
    "        \n",
    "    display.display(new_im)\n",
    "    print(f\"Value = {player.value}\")\n",
    "    \n",
    "    \n",
    "    listdealer = []\n",
    "    for i in dealer.cards:\n",
    "        listdealer.append(i)\n",
    "    print('\\nDealer has the following cards:')\n",
    "    \n",
    "    # creates a new image long as needed, and the pastes every card next to each other\n",
    "    l = len(listdealer)\n",
    "    new_im = Image.new('RGB', (65*l,100))\n",
    "    \n",
    "    i = 0\n",
    "    for item in listdealer:\n",
    "        new_im.paste(cards_dict[item.__str__()],(65*i,0))\n",
    "        i += 1\n",
    "        \n",
    "    display.display(new_im)\n",
    "    print(f\"Value = {dealer.value}\")\n",
    "    print('\\n')\n",
    "    \n",
    "    # prints count value, adjusting again for shown holecard\n",
    "    count.total = count.total + count.onevalue\n",
    "    print(count)\n",
    "    print('\\n')"
   ]
  },
  {
   "cell_type": "code",
   "execution_count": 324,
   "metadata": {},
   "outputs": [],
   "source": [
    "def player_rounds():\n",
    "    global player, shoe, dealer\n",
    "    \n",
    "    # checks every time for different scenarios: blackjack, bust, 21. If not one of them, asks player next move\n",
    "    if player.value == 21 and len(player.cards) == 2 and dealer.value != 21:\n",
    "        display.clear_output()\n",
    "        blackjack_win(player, chips)\n",
    "    elif player.value < 21:\n",
    "        hit_or_stand()\n",
    "    elif player.value > 21:\n",
    "        display.clear_output()\n",
    "        player_busts(player, chips)\n",
    "    elif player.value == 21 and len(player.cards) != 2:\n",
    "        display.clear_output()\n",
    "        dealer_rounds()\n",
    "    "
   ]
  },
  {
   "cell_type": "code",
   "execution_count": 325,
   "metadata": {},
   "outputs": [],
   "source": [
    "def dealer_rounds():\n",
    "    global player, shoe, dealer, chips, bet\n",
    "    \n",
    "    # dealer takes cards until value reaches 17 or more, then stops. In case of 'soft' 17, also hits\n",
    "    while dealer.value <= 17:\n",
    "        if dealer.value < 17:\n",
    "            hit(shoe, dealer)\n",
    "        elif dealer.value == 17 and dealer.aces >= 1:\n",
    "            hit(shoe, dealer)\n",
    "        else:\n",
    "            break\n",
    "    \n",
    "    \n",
    "        \n",
    "    # checks different ending scenarios: win, bust, lost, push\n",
    "    if player.value > dealer.value:\n",
    "        display.clear_output()\n",
    "        player_wins(player,dealer,chips)\n",
    "    elif dealer.value > player.value and dealer.value < 21:\n",
    "        display.clear_output()\n",
    "        dealer_wins(player, dealer, chips)\n",
    "    elif dealer.value > 21:\n",
    "        display.clear_output()\n",
    "        dealer_busts(player, dealer, chips)\n",
    "    elif player.value == dealer.value:\n",
    "        display.clear_output()\n",
    "        push(player, dealer)\n",
    "    elif dealer.value == 21:\n",
    "        display.clear_output()\n",
    "        dealer_wins(player, dealer, chips)"
   ]
  },
  {
   "cell_type": "code",
   "execution_count": 326,
   "metadata": {},
   "outputs": [],
   "source": [
    "def hit_or_stand():\n",
    "    global buttond,buttone, player, dealer, buttonh, buttonj, buttonm, buttonp, insurance_card\n",
    "    \n",
    "    #checks if there are enough chips to split or double down\n",
    "    enough_chips = (chips.total - chips.bet) >= chips.bet\n",
    "    \n",
    "    \n",
    "    # with buttons, asks the player next move. Hit or stand\n",
    "    show_some(player, dealer)\n",
    "    buttond = widgets.Button(description='Hit',button_style='info')\n",
    "    buttone = widgets.Button(description='Stand',button_style='info')\n",
    "    display.display(buttond)\n",
    "    display.display(buttone)\n",
    "    buttond.on_click(on_button_clicked_d)\n",
    "    buttone.on_click(on_button_clicked_e)\n",
    "    \n",
    "    #checks if there are enough chips to split or double down\n",
    "    enough_chips = (chips.total - chips.bet) >= chips.bet\n",
    "    \n",
    "    \n",
    "    # if enough chips are available, option to double down\n",
    "    if enough_chips:\n",
    "        buttonh = widgets.Button(description='Double Down',button_style='info')\n",
    "        display.display(buttonh)\n",
    "        buttonh.on_click(on_button_clicked_h)\n",
    "\n",
    "    \n",
    "    # if first round is a pair of anything but aces, it shows the button to split\n",
    "    if len(player.cards) == 2 and player.aces == 0 and (player.cards)[0].value == (player.cards[1]).value and enough_chips:\n",
    "        buttonj = widgets.Button(description='Split',button_style='info')\n",
    "        display.display(buttonj)\n",
    "        buttonj.on_click(on_button_clicked_j)\n",
    "        \n",
    "    # if first round, option to surrender\n",
    "    if len(player.cards) == 2:\n",
    "        buttonm = widgets.Button(description='Surrender',button_style='info')\n",
    "        display.display(buttonm)\n",
    "        buttonm.on_click(on_button_clicked_m)\n",
    "        \n",
    "    # if dealer is showing and ace, gives the option to bet that dealer has a blackjack, pays 2:1\n",
    "    if len(player.cards) == 2 and 'Ace' in insurance_card.__str__():\n",
    "        buttonp = widgets.Button(description='Insurance',button_style='info')\n",
    "        display.display(buttonp)\n",
    "        buttonp.on_click(on_button_clicked_p)\n",
    "        \n",
    "        "
   ]
  },
  {
   "cell_type": "code",
   "execution_count": 327,
   "metadata": {},
   "outputs": [],
   "source": [
    "def hit(shoe,hand):\n",
    "    \n",
    "    # takes a card from the shoe and adds it to the selected hand\n",
    "    \n",
    "    hitcard = shoe.deal()\n",
    "    hand.add_card(hitcard)\n",
    "    hand.adjust_for_ace()\n",
    "    "
   ]
  },
  {
   "cell_type": "code",
   "execution_count": 328,
   "metadata": {},
   "outputs": [],
   "source": [
    "def double_down_hit():\n",
    "    global buttoni, chips\n",
    "    \n",
    "    # doubles the bet and shows button to hit\n",
    "    chips.bet = (chips.bet)*2\n",
    "    print(f'Bet has been doubled. Now betting {chips.bet} chips')\n",
    "    show_some(player, dealer)\n",
    "    buttoni = widgets.Button(description='Hit',button_style='info')\n",
    "    display.display(buttoni)\n",
    "    buttoni.on_click(on_button_clicked_i)\n",
    "    \n",
    "    \n",
    "    "
   ]
  },
  {
   "cell_type": "code",
   "execution_count": 329,
   "metadata": {},
   "outputs": [],
   "source": [
    "def double_down_stand(shoe, player):\n",
    "    global dealer, chips, buttone\n",
    "    \n",
    "    # cheks for bust and if not, shows stand button\n",
    "    if player.value > 21:\n",
    "        display.clear_output()\n",
    "        player_busts(player, chips)\n",
    "    \n",
    "    elif player.value == 21:\n",
    "        display.clear_output()\n",
    "        dealer_rounds()\n",
    "    \n",
    "    elif player.value < 21:\n",
    "        display.clear_output()\n",
    "        show_some(player,dealer)\n",
    "        buttone = widgets.Button(description='Stand',button_style='info')\n",
    "        display.display(buttone)\n",
    "        buttone.on_click(on_button_clicked_e)\n",
    "    "
   ]
  },
  {
   "cell_type": "code",
   "execution_count": 330,
   "metadata": {},
   "outputs": [],
   "source": [
    "def player_wins(player, dealer, chips):\n",
    "    \n",
    "    # prints that playes has won and adds bet to the player's chips. Then asks to play again or not\n",
    "    if player.value == 21:\n",
    "        print('You win!')\n",
    "        chips.win_bet()\n",
    "        print(f'You have now {chips.total} chips')\n",
    "        show_all(player,dealer)\n",
    "        ask_for_playagain()\n",
    "    \n",
    "    elif player.value > dealer.value and player.value < 21:\n",
    "        print(\"You win!\")\n",
    "        chips.win_bet()\n",
    "        print(f'You have now {chips.total} chips')\n",
    "        show_all(player,dealer)\n",
    "        ask_for_playagain()"
   ]
  },
  {
   "cell_type": "code",
   "execution_count": 331,
   "metadata": {},
   "outputs": [],
   "source": [
    "def blackjack_win(player, chips):\n",
    "    \n",
    "    # prints blackjack win and adds the special bet price to player's chips. Then asks to play again or not\n",
    "    print('Blackjack! You win 3/2')\n",
    "    print(f'You have now {chips.total} chips')\n",
    "    chips.blackjack_bet()\n",
    "    show_all(player,dealer)\n",
    "    ask_for_playagain()"
   ]
  },
  {
   "cell_type": "code",
   "execution_count": 332,
   "metadata": {},
   "outputs": [],
   "source": [
    "def player_busts(player,chips):\n",
    "    \n",
    "    # prints that player has lost and remove the bet from player's chips. Then asks to play again or not\n",
    "    print(\"You lose. Dealer wins\")\n",
    "    chips.lose_bet()\n",
    "    print(f'You have  now {chips.total} chips')\n",
    "    show_all(player,dealer)\n",
    "    ask_for_playagain()"
   ]
  },
  {
   "cell_type": "code",
   "execution_count": 333,
   "metadata": {},
   "outputs": [],
   "source": [
    "def dealer_wins(player, dealer, chips):\n",
    "    \n",
    "    # prints that dealer won and adjust the player's chips. Then asks to play again or not\n",
    "    if dealer.value == 21:\n",
    "        print(\"Dealer wins. Dealer's cards value is exactly 21\")\n",
    "        chips.lose_bet()\n",
    "        print(f'You have now {chips.total} chips')\n",
    "        show_all(player,dealer)\n",
    "        ask_for_playagain()\n",
    "    \n",
    "    elif dealer.value > player.value and dealer.value < 21:\n",
    "        print(f\"You lose\")\n",
    "        chips.lose_bet()\n",
    "        print(f'You have now {chips.total} chips')\n",
    "        show_all(player,dealer)\n",
    "        ask_for_playagain()"
   ]
  },
  {
   "cell_type": "code",
   "execution_count": 334,
   "metadata": {},
   "outputs": [],
   "source": [
    "def dealer_busts(player, dealer, chips):\n",
    "    \n",
    "    # prints that dealer busted and adjusts the chips. Then asks to play again or not\n",
    "    print(\"You win!\")\n",
    "    chips.win_bet()\n",
    "    print(f'You have now {chips.total} chips')\n",
    "    show_all(player,dealer)\n",
    "    ask_for_playagain()"
   ]
  },
  {
   "cell_type": "code",
   "execution_count": 335,
   "metadata": {},
   "outputs": [],
   "source": [
    "def push(player, dealer):\n",
    "    \n",
    "    # prints player and dealer tied and then asks to play again or not\n",
    "    print('Push! Bet is returned')\n",
    "    print(f'You have {chips.total} chips')\n",
    "    show_all(player,dealer)\n",
    "    ask_for_playagain()"
   ]
  },
  {
   "cell_type": "code",
   "execution_count": 336,
   "metadata": {},
   "outputs": [],
   "source": [
    "def ask_for_playagain():\n",
    "    global buttonf, buttong\n",
    "    \n",
    "    # if no more chips, game is over, else, asks the player to play again or not\n",
    "    if chips.total == 0:\n",
    "        loser = Image.open('Images/loser.jpeg')\n",
    "        display.display(loser.resize((300,200)))\n",
    "        print('GAME OVER. You ran out of chips. Thanks for playing')\n",
    "    else:\n",
    "        print('\\nPlay again?')\n",
    "        buttonf = widgets.Button( description='Yes', button_style='info')\n",
    "        buttong = widgets.Button( description='No', button_style='info')\n",
    "        display.display(buttonf)\n",
    "        display.display(buttong)\n",
    "        buttonf.on_click(on_button_clicked_f)\n",
    "        buttong.on_click(on_button_clicked_g)"
   ]
  },
  {
   "cell_type": "code",
   "execution_count": null,
   "metadata": {},
   "outputs": [],
   "source": []
  },
  {
   "cell_type": "code",
   "execution_count": null,
   "metadata": {},
   "outputs": [],
   "source": []
  },
  {
   "cell_type": "code",
   "execution_count": null,
   "metadata": {},
   "outputs": [],
   "source": []
  },
  {
   "cell_type": "code",
   "execution_count": 337,
   "metadata": {},
   "outputs": [],
   "source": [
    "def player_rounds_main():\n",
    "    global player, shoe, dealer\n",
    "    \n",
    "    if player.value >= 21:\n",
    "        display.clear_output()\n",
    "        player_rounds_secondary()\n",
    "    elif player.value < 21:\n",
    "        hit_or_stand_player()\n",
    "   "
   ]
  },
  {
   "cell_type": "code",
   "execution_count": 338,
   "metadata": {},
   "outputs": [],
   "source": [
    "def player_rounds_secondary():\n",
    "    global player, secondaryplayer, shoe, dealer\n",
    "    \n",
    "    if secondaryplayer.value == 21:\n",
    "        display.clear_output()\n",
    "        dealer_rounds_split()\n",
    "    elif secondaryplayer.value > 21:\n",
    "        display.clear_output()\n",
    "        dealer_rounds_split()\n",
    "    elif secondaryplayer.value < 21:\n",
    "        display.clear_output()\n",
    "        hit_or_stand_secondaryplayer()"
   ]
  },
  {
   "cell_type": "code",
   "execution_count": 339,
   "metadata": {},
   "outputs": [],
   "source": [
    "def dealer_rounds_split():\n",
    "    global dealer, shoe\n",
    "    \n",
    "    # dealer takes cards until value reaches 17 or more, then stops\n",
    "    while dealer.value < 17 :\n",
    "        hit(shoe, dealer)\n",
    "    show_all_split()\n",
    "    checks_endround_split()"
   ]
  },
  {
   "cell_type": "code",
   "execution_count": 340,
   "metadata": {},
   "outputs": [],
   "source": [
    "def hit_or_stand_player():\n",
    "    global buttonk, buttonl, buttonm\n",
    "    \n",
    "    # with buttons, asks the main player next move. Hit, stand or double down\n",
    "    show_some_split()\n",
    "    print('PLAYING MAIN HAND')\n",
    "    buttonk = widgets.Button(description='Hit',button_style='info')\n",
    "    buttonl = widgets.Button(description='Stand',button_style='info')\n",
    "    display.display(buttonk)\n",
    "    display.display(buttonl)\n",
    "    buttonk.on_click(on_button_clicked_k)\n",
    "    buttonl.on_click(on_button_clicked_l)"
   ]
  },
  {
   "cell_type": "code",
   "execution_count": 341,
   "metadata": {},
   "outputs": [],
   "source": [
    "def hit_or_stand_secondaryplayer():\n",
    "    global buttonn, buttono, buttonp\n",
    "    \n",
    "    #with buttons, asks the split player next move. Hit, stand or double down\n",
    "    show_some_split()\n",
    "    print('PLAYING SPLIT HAND')\n",
    "    buttonn = widgets.Button(description='Hit',button_style='info')\n",
    "    buttono = widgets.Button(description='Stand',button_style='info')\n",
    "    display.display(buttonn)\n",
    "    display.display(buttono)\n",
    "    buttonn.on_click(on_button_clicked_n)\n",
    "    buttono.on_click(on_button_clicked_o)"
   ]
  },
  {
   "cell_type": "code",
   "execution_count": 342,
   "metadata": {},
   "outputs": [],
   "source": [
    "def show_some_split():\n",
    "    global player, secondaryplayer, dealer\n",
    "    \n",
    "    #creates a list to print the cards in hand and adds 'soft' or 'hard' before the value if needed\n",
    "    listplayer = []\n",
    "    for i in player.cards:\n",
    "        listplayer.append(i)\n",
    "    print('\\nYour main hand has the following cards:\\n')\n",
    "    \n",
    "    # creates a new image long as needed, and the pastes every card next to each other\n",
    "    l = len(listplayer)\n",
    "    new_im = Image.new('RGB', (65*l,100))\n",
    "    \n",
    "    i = 0\n",
    "    for item in listplayer:\n",
    "        new_im.paste(cards_dict[item.__str__()],(65*i,0))\n",
    "        i += 1\n",
    "        \n",
    "    display.display(new_im)\n",
    "    \n",
    "    # find if soft or hard\n",
    "    if 12 <= player.value <= 20 and player.aces == 1:\n",
    "        print(f\"Value = 'Soft' {player.value}\")\n",
    "        print('Chance to bust : 0 %')\n",
    "    elif 12 <= player.value <= 20 and player.aces == 0:\n",
    "        print(f\"Value = 'Hard' {player.value}\")\n",
    "        print('\\n')\n",
    "        print('Chance to bust: ' + str(chance_busting(player, shoe))+ ' %')\n",
    "    else:\n",
    "        print(f\"Value = {player.value}\")\n",
    "        print('Chance to bust : 0 %')\n",
    "    \n",
    "    \n",
    "    #repeat process to show secondary hand( split hand)\n",
    "    listsecondaryplayer = []\n",
    "    for i in secondaryplayer.cards:\n",
    "        listsecondaryplayer.append(i)\n",
    "    print('\\nYour split hand has the following cards:\\n')\n",
    "    \n",
    "    # creates a new image long as needed, and the pastes every card next to each other\n",
    "    l = len(listsecondaryplayer)\n",
    "    new_im = Image.new('RGB', (65*l,100))\n",
    "    \n",
    "    i = 0\n",
    "    for item in listsecondaryplayer:\n",
    "        new_im.paste(cards_dict[item.__str__()],(65*i,0))\n",
    "        i += 1\n",
    "        \n",
    "    display.display(new_im)\n",
    "    \n",
    "    if 12 <= secondaryplayer.value <= 20 and secondaryplayer.aces == 1:\n",
    "        print(f\"Value = 'Soft' {secondaryplayer.value}\")\n",
    "        print('Chance to bust: 0 %')\n",
    "    elif 12 <= secondaryplayer.value <= 20 and secondaryplayer.aces == 0:\n",
    "        print (f\"Value = 'Hard' {secondaryplayer.value}\")\n",
    "        print('\\n')\n",
    "        print('Chance to bust: ' + str(chance_busting(secondaryplayer, shoe))+ ' %')\n",
    "    else:\n",
    "        print(f\"Value = {secondaryplayer.value}\")\n",
    "    \n",
    "    \n",
    "    # same for the dealer but no need of 'soft' or 'hard'. Instead, keeps one of the cards hidden \n",
    "    listdealer = []\n",
    "    for i in dealer.cards:\n",
    "        listdealer.append(i)\n",
    "    print('\\n\\nDealer has the following cards:\\n')\n",
    "    new_im = Image.new('RGB', (65*2,100))\n",
    "    \n",
    "    new_im.paste(hole_card,(0,0))\n",
    "    new_im.paste(cards_dict[listdealer[1].__str__()],(65,0))\n",
    "        \n",
    "    display.display(new_im)\n",
    "    \n",
    "\n",
    "    holevalue = listdealer[1].value\n",
    "    print(f'Value = X + {holevalue}')\n",
    "    print('\\n')\n",
    "    print('\\n')\n",
    "    \n",
    "    # prints current count value adjustin for the holecard\n",
    "    if len(listplayer) == 2:\n",
    "        count.count_value(holecard)\n",
    "        count.total = count.total - count.onevalue\n",
    "    print(count)\n",
    "    print('\\n')"
   ]
  },
  {
   "cell_type": "code",
   "execution_count": 343,
   "metadata": {},
   "outputs": [],
   "source": [
    "def show_all_split():\n",
    "    global player, secondaryplayer, dealer\n",
    "    \n",
    "    #creates a list to print the cards in hand and adds 'soft' or 'hard' before the value if needed\n",
    "    listplayer = []\n",
    "    for i in player.cards:\n",
    "        listplayer.append(i)\n",
    "    print('\\nYour main hand has the following cards:\\n')\n",
    "    \n",
    "    # creates a new image long as needed, and the pastes every card next to each other\n",
    "    l = len(listplayer)\n",
    "    new_im = Image.new('RGB', (65*l,100))\n",
    "    \n",
    "    i = 0\n",
    "    for item in listplayer:\n",
    "        new_im.paste(cards_dict[item.__str__()],(65*i,0))\n",
    "        i += 1\n",
    "        \n",
    "    display.display(new_im)\n",
    "    \n",
    "    # find if soft or hard\n",
    "    if 12 <= player.value <= 20 and player.aces == 1:\n",
    "        print(f\"Value = 'Soft' {player.value}\")\n",
    "    elif 12 <= player.value <= 20 and player.aces == 0:\n",
    "        print(f\"Value = 'Hard' {player.value}\")\n",
    "    else:\n",
    "        print(f\"Value = {player.value}\")\n",
    "    \n",
    "    \n",
    "    #repeat process to show secondary hand( split hand)\n",
    "    listsecondaryplayer = []\n",
    "    for i in secondaryplayer.cards:\n",
    "        listsecondaryplayer.append(i)\n",
    "    print('\\nYour split hand has the following cards:\\n')\n",
    "    \n",
    "    # creates a new image long as needed, and the pastes every card next to each other\n",
    "    l = len(listsecondaryplayer)\n",
    "    new_im = Image.new('RGB', (65*l,100))\n",
    "    \n",
    "    i = 0\n",
    "    for item in listsecondaryplayer:\n",
    "        new_im.paste(cards_dict[item.__str__()],(65*i,0))\n",
    "        i += 1\n",
    "        \n",
    "    display.display(new_im)\n",
    "    \n",
    "    if 12 <= secondaryplayer.value <= 20 and secondaryplayer.aces == 1:\n",
    "        print(f\"Value = 'Soft' {secondaryplayer.value}\")\n",
    "    elif 12 <= secondaryplayer.value <= 20 and secondaryplayer.aces == 0:\n",
    "        print (f\"Value = 'Hard' {secondaryplayer.value}\")\n",
    "    else:\n",
    "        print(f\"Value = {secondaryplayer.value}\")\n",
    "    \n",
    "    \n",
    "    # same for the dealer but no need of 'soft' or 'hard'. \n",
    "    listdealer = []\n",
    "    for i in dealer.cards:\n",
    "        listdealer.append(i)\n",
    "    print('\\n\\nDealer has the following cards:\\n')\n",
    "    \n",
    "    # creates a new image long as needed, and the pastes every card next to each other\n",
    "    l = len(listdealer)\n",
    "    new_im = Image.new('RGB', (65*l,100))\n",
    "    \n",
    "    i = 0\n",
    "    for item in listdealer:\n",
    "        new_im.paste(cards_dict[item.__str__()],(65*i,0))\n",
    "        i += 1\n",
    "        \n",
    "    display.display(new_im)\n",
    "    \n",
    "    print(f'Value = {dealer.value}')\n",
    "    print('\\n\\n')\n",
    "    \n",
    "    # prints count value, adjusting again for shown holecard\n",
    "    count.total = count.total + count.onevalue\n",
    "    print(count)\n",
    "    print('\\n')"
   ]
  },
  {
   "cell_type": "code",
   "execution_count": 344,
   "metadata": {},
   "outputs": [],
   "source": [
    "def checks_endround_split():\n",
    "    global chips, player, secondaryplayer, dealer\n",
    "    \n",
    "    # every check for multiple results with split. all in one function with print included\n",
    "    # added else for any no included result. nothing will happen and asks the player to play again\n",
    "    display.clear_output()\n",
    "    \n",
    "    print('')\n",
    "    \n",
    "    if dealer.value < player.value <= 21 and dealer.value < secondaryplayer.value <= 21:\n",
    "        print('Both hands win')\n",
    "        chips.total = chips.total + chips.bet*2\n",
    "        \n",
    "    elif dealer.value < player.value <= 21 and secondaryplayer.value > 21:\n",
    "        print('Main hand wins. Split hand busted')\n",
    "        \n",
    "    \n",
    "    elif dealer.value < secondaryplayer.value <= 21 and player.value > 21:\n",
    "        print('Split hand wins. Main hand busted')\n",
    "    \n",
    "    \n",
    "    elif player.value > 21 and secondaryplayer.value > 21:\n",
    "        print('Both hands busted')\n",
    "        chips.total = chips.total - chips.bet*2\n",
    "    \n",
    "    \n",
    "    elif player.value == secondaryplayer.value == dealer.value <= 21:\n",
    "        print('Both hands push with dealer')\n",
    "        \n",
    "    \n",
    "    elif dealer.value < player.value <= 21 and dealer.value == secondaryplayer.value:\n",
    "        print('Main hands wins. Split hand pushes with dealer')\n",
    "        chips.total = chips.total + chips.bet\n",
    "        \n",
    "    \n",
    "    elif dealer.value < secondaryplayer.value <= 21 and dealer.value == player.value:\n",
    "        print('Split hand wins. Main hand pushes with dealer')\n",
    "        chips.total = chips.total + chips.bet\n",
    "    \n",
    "    \n",
    "    elif secondaryplayer.value < player.value == dealer.value <= 21:\n",
    "        print('Main hand pushes with dealer. Secondary hand loses')\n",
    "        chips.total = chips.total - chips.bet\n",
    "        \n",
    "    \n",
    "    elif player.value < secondaryplayer.value == dealer.value <= 21:\n",
    "        print('Secondary hand pushes with dealer. Main hand loses')\n",
    "        chips.total = chips.total - chips.bet\n",
    "        \n",
    "    \n",
    "    elif player.value == dealer.value <= 21 and secondaryplayer.value > 21:\n",
    "        print('Main hand pushes with dealer. Split hand busted')\n",
    "        chips.total = chips.total - chips.bet\n",
    "        \n",
    "    \n",
    "    elif secondaryplayer.value == dealer.value <= 21 and player.value > 21:\n",
    "        print('Split hand pushes with dealer. Main hand busted')\n",
    "        chips.total = chips.total - chips.bet\n",
    "        \n",
    "    \n",
    "    elif player.value < dealer.value <= 21 and  secondaryplayer.value < dealer.value <= 21:\n",
    "        print('Both hands lose. Dealer wins')\n",
    "        chips.total = chips.total - chips.bet*2\n",
    "        \n",
    "    \n",
    "    elif secondaryplayer.value < dealer.value < player.value <= 21:\n",
    "        print('Main hand wins. Split hand loses')\n",
    "        \n",
    "    \n",
    "    elif player.value < dealer.value < secondaryplayer.value <= 21:\n",
    "        print('Split hand wins. Main hand loses')\n",
    "    \n",
    "    \n",
    "    elif player.value <= 21 and secondaryplayer.value > 21 and dealer.value > 21:\n",
    "        print('Main hand wins. Split hand and dealer busted')\n",
    "        \n",
    "    \n",
    "    elif secondaryplayer.value <= 21 and player.value > 21 and dealer.value > 21:\n",
    "        print('Split hand wins. Main hand and dealer busted')\n",
    "        \n",
    "    \n",
    "    elif player.value <= 21 and secondaryplayer.value <= 21 and dealer.value > 21:\n",
    "        print('Both hands win. Dealer busted')\n",
    "        chips.total = chips.total + chips.bet*2\n",
    "    \n",
    "    \n",
    "    elif secondaryplayer.value > 21 and player.value < dealer.value <= 21:\n",
    "        print('Main hand loses. Split hand busted')\n",
    "        chips.total = chips.total - chips.bet*2\n",
    "    \n",
    "    \n",
    "    elif player.value > 21 and secondaryplayer.value < dealer.value <= 21:\n",
    "        print('Main hand busted. Split hand loses')\n",
    "        chips.total = chips.total - chips.bet*2\n",
    "    \n",
    "    \n",
    "    else:\n",
    "        print('End not recognized. Sorry for the incovenience. Nothing will happen')\n",
    "        \n",
    "    \n",
    "    \n",
    "    print(f'\\nYou have {chips.total} chips')\n",
    "    show_all_split()\n",
    "    ask_for_playagain()\n",
    "        \n",
    "        \n",
    "    "
   ]
  },
  {
   "cell_type": "code",
   "execution_count": null,
   "metadata": {},
   "outputs": [],
   "source": []
  },
  {
   "cell_type": "code",
   "execution_count": null,
   "metadata": {},
   "outputs": [],
   "source": []
  },
  {
   "cell_type": "code",
   "execution_count": null,
   "metadata": {},
   "outputs": [],
   "source": []
  },
  {
   "cell_type": "code",
   "execution_count": 345,
   "metadata": {},
   "outputs": [],
   "source": [
    "def on_button_clicked_a(b):\n",
    "    # button a for starting the game\n",
    "    buttona.close()\n",
    "    buttonb.close()\n",
    "    initialize_game()"
   ]
  },
  {
   "cell_type": "code",
   "execution_count": 346,
   "metadata": {},
   "outputs": [],
   "source": [
    "def on_button_clicked_b(b):\n",
    "    # button b to quit playing\n",
    "    print('Thanks for playing!')\n",
    "    buttona.close()\n",
    "    buttonb.close()"
   ]
  },
  {
   "cell_type": "code",
   "execution_count": 347,
   "metadata": {},
   "outputs": [],
   "source": [
    "def on_button_clicked_c(b):\n",
    "    # button c to place the bet showing in the slider at the moment of clicking\n",
    "    slidera.close()\n",
    "    buttonc.close()\n",
    "    take_bet()"
   ]
  },
  {
   "cell_type": "code",
   "execution_count": 348,
   "metadata": {},
   "outputs": [],
   "source": [
    "def on_button_clicked_d(b):\n",
    "    global shoe, player\n",
    "    # button d to hit\n",
    "    hit(shoe,player)\n",
    "    buttond.close()\n",
    "    buttone.close()\n",
    "    display.clear_output()\n",
    "    player_rounds()\n",
    "    "
   ]
  },
  {
   "cell_type": "code",
   "execution_count": 349,
   "metadata": {},
   "outputs": [],
   "source": [
    "def on_button_clicked_e(b):\n",
    "    # button e to stand\n",
    "    buttond.close()\n",
    "    buttone.close()\n",
    "    display.clear_output()\n",
    "    dealer_rounds()\n",
    "    \n",
    "    "
   ]
  },
  {
   "cell_type": "code",
   "execution_count": 350,
   "metadata": {},
   "outputs": [],
   "source": [
    "def on_button_clicked_f(b):\n",
    "    # button f to play again next round\n",
    "    buttonf.close()\n",
    "    buttong.close()\n",
    "    display.clear_output()\n",
    "    initialize_game()\n",
    "    "
   ]
  },
  {
   "cell_type": "code",
   "execution_count": 351,
   "metadata": {},
   "outputs": [],
   "source": [
    "def on_button_clicked_g(b):\n",
    "    # button g to quit playing after being played at least one round\n",
    "    buttonf.close()\n",
    "    buttong.close()\n",
    "    display.clear_output()\n",
    "    print(f'Thanks for playing. You leave with {chips.total} chips.')"
   ]
  },
  {
   "cell_type": "code",
   "execution_count": 352,
   "metadata": {},
   "outputs": [],
   "source": [
    "def on_button_clicked_h(b):\n",
    "    # button h to double down\n",
    "    buttond.close()\n",
    "    buttone.close()\n",
    "    buttonh.close()\n",
    "    display.clear_output()\n",
    "    double_down_hit()"
   ]
  },
  {
   "cell_type": "code",
   "execution_count": 353,
   "metadata": {},
   "outputs": [],
   "source": [
    "def on_button_clicked_i(b):\n",
    "    # button i to hit in case of double down\n",
    "    buttoni.close()\n",
    "    display.clear_output()\n",
    "    hit(shoe, player)\n",
    "    double_down_stand(shoe,player)"
   ]
  },
  {
   "cell_type": "code",
   "execution_count": 354,
   "metadata": {},
   "outputs": [],
   "source": [
    "def on_button_clicked_j(b):\n",
    "    global secondaryplayer, secondarybet\n",
    "    #button j creates splithand and draws two cards adjusting for aces, crates splitbet and starts the splitgame\n",
    "    buttonj.close()\n",
    "    display.clear_output()\n",
    "    secondaryplayer = Hand()\n",
    "    secondarybet = chips.bet\n",
    "    secondaryplayer.add_card(shoe.deal())\n",
    "    secondaryplayer.add_card(shoe.deal())\n",
    "    secondaryplayer.adjust_for_ace()\n",
    "    player_rounds_main()"
   ]
  },
  {
   "cell_type": "code",
   "execution_count": 355,
   "metadata": {},
   "outputs": [],
   "source": [
    "def on_button_clicked_k(b):\n",
    "    global shoe, player\n",
    "    # button d to hit main hand\n",
    "    hit(shoe,player)\n",
    "    display.clear_output()\n",
    "    player_rounds_main()"
   ]
  },
  {
   "cell_type": "code",
   "execution_count": 356,
   "metadata": {},
   "outputs": [],
   "source": [
    "def on_button_clicked_l(b):\n",
    "    # button l to stand in main hand\n",
    "    display.clear_output()\n",
    "    player_rounds_secondary()"
   ]
  },
  {
   "cell_type": "code",
   "execution_count": 357,
   "metadata": {},
   "outputs": [],
   "source": [
    "def on_button_clicked_n(b):\n",
    "    global shoe, secondaryplayer\n",
    "    # button n to hit for split hand\n",
    "    display.clear_output()\n",
    "    hit(shoe, secondaryplayer)\n",
    "    player_rounds_secondary()"
   ]
  },
  {
   "cell_type": "code",
   "execution_count": 358,
   "metadata": {},
   "outputs": [],
   "source": [
    "def on_button_clicked_o(b):\n",
    "    # button o to stand for split hand, goes to dealer_split\n",
    "    display.clear_output()\n",
    "    dealer_rounds_split()"
   ]
  },
  {
   "cell_type": "code",
   "execution_count": 359,
   "metadata": {},
   "outputs": [],
   "source": [
    "def on_button_clicked_m(b):\n",
    "    display.clear_output()\n",
    "    print('Player surrenders. Half of the bet returned')\n",
    "    chips.total = int(chips.total - chips.bet/2)\n",
    "    print(f'\\nYou have now {chips.total} chips ')\n",
    "    ask_for_playagain()"
   ]
  },
  {
   "cell_type": "code",
   "execution_count": 360,
   "metadata": {},
   "outputs": [],
   "source": [
    "def on_button_clicked_p(b):\n",
    "    display.clear_output()\n",
    "    if dealer.value == 21:\n",
    "        chips.total = chips.total + chips.bet*2\n",
    "        print(f'Dealer has a blackjack! Insurance pays double the bet.\\nYou have now {chips.total} chips')\n",
    "    else:\n",
    "        chips.total = chips.total - chips.bet\n",
    "        print(f\"Dealer doesn't have a blackjack! Dealer has {dealer.value}. You lose the bet.\\nYou have now {chips.total} chips\")\n",
    "    ask_for_playagain()"
   ]
  },
  {
   "cell_type": "code",
   "execution_count": 361,
   "metadata": {},
   "outputs": [],
   "source": [
    "def on_button_clicked_q(b):\n",
    "    display.clear_output()\n",
    "    card_values = Image.open('Images/card_values.png')\n",
    "    display.display(card_values.resize((300,200)))\n",
    "    print('')\n",
    "    print('\\nShoe is made with 4 decks. Reshuffles at 25%')\n",
    "    print('\\nDealer hits on a soft 17')\n",
    "    print('\\nDoubledown, Split and Surrender available')\n",
    "    print('\\nInsurance available')\n",
    "    print('\\nSubsplit and Doubledown on split hands unavailable')\n",
    "    print('\\nBlackjack pays 3:2 and Insurance plays 2:1')\n",
    "    print('\\nOnly original bets are lost on dealer blackjack')\n",
    "    print('')\n",
    "    print('\\nEnjoy!')\n",
    "    buttonr = widgets.Button(description='Back',button_style='info')\n",
    "    display.display(buttonr)\n",
    "    buttonr.on_click(on_button_clicked_r)"
   ]
  },
  {
   "cell_type": "code",
   "execution_count": 362,
   "metadata": {},
   "outputs": [],
   "source": [
    "def on_button_clicked_r(b):\n",
    "    display.clear_output()\n",
    "    start_playing()"
   ]
  },
  {
   "cell_type": "code",
   "execution_count": null,
   "metadata": {},
   "outputs": [],
   "source": []
  },
  {
   "cell_type": "code",
   "execution_count": null,
   "metadata": {},
   "outputs": [],
   "source": []
  },
  {
   "cell_type": "code",
   "execution_count": 363,
   "metadata": {},
   "outputs": [],
   "source": [
    "def chance_busting(hand, shoe):\n",
    "    \n",
    "    twos = 0\n",
    "    threes = 0\n",
    "    fours = 0\n",
    "    fives = 0\n",
    "    sixes = 0\n",
    "    sevens = 0\n",
    "    eights = 0\n",
    "    nines = 0\n",
    "    tens = 0\n",
    "    aces = 0\n",
    "    \n",
    "    for card in shoe.shoelist():\n",
    "        if card.value == 2:\n",
    "            twos +=1\n",
    "        elif card.value == 3:\n",
    "            threes +=1\n",
    "        elif card.value == 4:\n",
    "            fours +=1\n",
    "        elif card.value == 5:\n",
    "            fives +=1\n",
    "        elif card.value == 6:\n",
    "            sixes +=1\n",
    "        elif card.value == 7:\n",
    "            sevens +=1\n",
    "        elif card.value == 8:\n",
    "            eights +=1\n",
    "        elif card.value == 9:\n",
    "            nines +=1\n",
    "        elif card.value == 10:\n",
    "            tens +=1\n",
    "        elif card.value == 11:\n",
    "            aces += 1\n",
    "            \n",
    "    chance_dict = {}\n",
    "    chance_dict[1] = aces\n",
    "    chance_dict[2] = twos\n",
    "    chance_dict[3] = threes\n",
    "    chance_dict[4] = fours\n",
    "    chance_dict[5] = fives\n",
    "    chance_dict[6] = sixes\n",
    "    chance_dict[7] = sevens\n",
    "    chance_dict[8] = eights\n",
    "    chance_dict[9] = nines\n",
    "    chance_dict[10] = tens\n",
    "    \n",
    "    difference = 21 - hand.value\n",
    "    bustingcards = 0\n",
    "    no_bustingcards = 0\n",
    "    \n",
    "    for item in chance_dict.items():\n",
    "        if item[0] > difference:\n",
    "            bustingcards += item[1]\n",
    "        else:\n",
    "            no_bustingcards += item[1]\n",
    "            \n",
    "    total = bustingcards + no_bustingcards\n",
    "    \n",
    "    return round(( bustingcards / total ) * 100,2)\n",
    "            \n",
    "    "
   ]
  },
  {
   "cell_type": "code",
   "execution_count": 364,
   "metadata": {},
   "outputs": [
    {
     "name": "stdout",
     "output_type": "stream",
     "text": [
      "69.61\n"
     ]
    }
   ],
   "source": [
    "print(chance_busting(player, shoe))"
   ]
  },
  {
   "cell_type": "code",
   "execution_count": null,
   "metadata": {},
   "outputs": [],
   "source": []
  },
  {
   "cell_type": "code",
   "execution_count": null,
   "metadata": {},
   "outputs": [],
   "source": []
  },
  {
   "cell_type": "code",
   "execution_count": null,
   "metadata": {},
   "outputs": [],
   "source": []
  },
  {
   "cell_type": "code",
   "execution_count": 365,
   "metadata": {},
   "outputs": [],
   "source": [
    "def suggested_move():\n",
    "    pass"
   ]
  },
  {
   "cell_type": "code",
   "execution_count": null,
   "metadata": {},
   "outputs": [],
   "source": []
  },
  {
   "cell_type": "code",
   "execution_count": null,
   "metadata": {},
   "outputs": [],
   "source": []
  },
  {
   "cell_type": "code",
   "execution_count": null,
   "metadata": {},
   "outputs": [],
   "source": []
  },
  {
   "cell_type": "code",
   "execution_count": 366,
   "metadata": {},
   "outputs": [],
   "source": [
    "def start_playing():\n",
    "    global buttona, buttonb, audio\n",
    "    \n",
    "    # shows the first main buttons and some info\n",
    "    \n",
    "    blackjack = Image.open('Images/blackjack_main.jpeg')\n",
    "    display.display(blackjack.resize((300,200)))\n",
    "    print('BLACKJACK 0.5  (Now with chance of busting and card counting!)')\n",
    "    #audio\n",
    "    buttonq = widgets.Button(description='Rules',button_style='info')\n",
    "    display.display(buttona)\n",
    "    display.display(buttonb) \n",
    "    display.display(buttonq)\n",
    "    buttona.on_click(on_button_clicked_a)\n",
    "    buttonb.on_click(on_button_clicked_b)\n",
    "    buttonq.on_click(on_button_clicked_q)\n",
    "    print('')\n",
    "    print('')\n",
    "    print('by jaume')\n",
    "    print('2020')\n",
    "    #play_audio()"
   ]
  },
  {
   "cell_type": "code",
   "execution_count": 367,
   "metadata": {
    "scrolled": true
   },
   "outputs": [],
   "source": [
    "def play():\n",
    "    global buttona, buttonb, chips, ft, audio, count\n",
    "\n",
    "    # to play for the first time. Initializes the chips, variable first time and  then starts\n",
    "    # now also starts the count\n",
    "    buttona = widgets.Button(description = 'Start playing!', button_style = 'info')\n",
    "    buttonb = widgets.Button(description = 'Quit', button_style = 'info')\n",
    "    chips = Chips()\n",
    "    count = Count()\n",
    "    ft = True\n",
    "    start_playing()\n",
    "    "
   ]
  },
  {
   "cell_type": "code",
   "execution_count": 368,
   "metadata": {},
   "outputs": [],
   "source": [
    "def play_audio():\n",
    "    \n",
    "    # creates an audio object to play during the game\n",
    "    global audio\n",
    "    audio = display.Audio('8ball.wav', autoplay=True)\n",
    "    print('playing audio')\n",
    "    return audio"
   ]
  },
  {
   "cell_type": "code",
   "execution_count": null,
   "metadata": {},
   "outputs": [],
   "source": []
  },
  {
   "cell_type": "code",
   "execution_count": null,
   "metadata": {},
   "outputs": [],
   "source": []
  },
  {
   "cell_type": "code",
   "execution_count": null,
   "metadata": {},
   "outputs": [],
   "source": []
  },
  {
   "cell_type": "code",
   "execution_count": null,
   "metadata": {},
   "outputs": [],
   "source": []
  },
  {
   "cell_type": "code",
   "execution_count": 369,
   "metadata": {},
   "outputs": [],
   "source": [
    "#play_audio()"
   ]
  },
  {
   "cell_type": "code",
   "execution_count": null,
   "metadata": {},
   "outputs": [],
   "source": []
  },
  {
   "cell_type": "code",
   "execution_count": null,
   "metadata": {},
   "outputs": [],
   "source": []
  },
  {
   "cell_type": "code",
   "execution_count": null,
   "metadata": {},
   "outputs": [],
   "source": []
  },
  {
   "cell_type": "code",
   "execution_count": null,
   "metadata": {},
   "outputs": [],
   "source": []
  },
  {
   "cell_type": "code",
   "execution_count": null,
   "metadata": {},
   "outputs": [],
   "source": []
  },
  {
   "cell_type": "code",
   "execution_count": null,
   "metadata": {},
   "outputs": [],
   "source": []
  },
  {
   "cell_type": "code",
   "execution_count": null,
   "metadata": {},
   "outputs": [],
   "source": []
  },
  {
   "cell_type": "code",
   "execution_count": null,
   "metadata": {},
   "outputs": [],
   "source": []
  },
  {
   "cell_type": "code",
   "execution_count": null,
   "metadata": {},
   "outputs": [],
   "source": []
  },
  {
   "cell_type": "code",
   "execution_count": null,
   "metadata": {},
   "outputs": [],
   "source": []
  },
  {
   "cell_type": "code",
   "execution_count": null,
   "metadata": {},
   "outputs": [],
   "source": []
  },
  {
   "cell_type": "code",
   "execution_count": null,
   "metadata": {},
   "outputs": [],
   "source": []
  },
  {
   "cell_type": "code",
   "execution_count": null,
   "metadata": {},
   "outputs": [],
   "source": []
  },
  {
   "cell_type": "code",
   "execution_count": null,
   "metadata": {},
   "outputs": [],
   "source": []
  },
  {
   "cell_type": "code",
   "execution_count": null,
   "metadata": {},
   "outputs": [],
   "source": []
  },
  {
   "cell_type": "code",
   "execution_count": null,
   "metadata": {},
   "outputs": [],
   "source": []
  },
  {
   "cell_type": "code",
   "execution_count": null,
   "metadata": {},
   "outputs": [],
   "source": []
  },
  {
   "cell_type": "code",
   "execution_count": null,
   "metadata": {},
   "outputs": [],
   "source": []
  },
  {
   "cell_type": "code",
   "execution_count": null,
   "metadata": {},
   "outputs": [],
   "source": []
  },
  {
   "cell_type": "code",
   "execution_count": 370,
   "metadata": {},
   "outputs": [
    {
     "data": {
      "text/plain": [
       "69.61"
      ]
     },
     "execution_count": 370,
     "metadata": {},
     "output_type": "execute_result"
    }
   ],
   "source": [
    "chance_busting(player, shoe)"
   ]
  },
  {
   "cell_type": "code",
   "execution_count": null,
   "metadata": {},
   "outputs": [],
   "source": []
  },
  {
   "cell_type": "code",
   "execution_count": 371,
   "metadata": {},
   "outputs": [
    {
     "name": "stdout",
     "output_type": "stream",
     "text": [
      "Five of Clubs\n"
     ]
    }
   ],
   "source": [
    "print(holecard)"
   ]
  },
  {
   "cell_type": "code",
   "execution_count": 372,
   "metadata": {},
   "outputs": [],
   "source": [
    "# add music"
   ]
  },
  {
   "cell_type": "code",
   "execution_count": 373,
   "metadata": {},
   "outputs": [],
   "source": [
    "# add count and chance to bust"
   ]
  },
  {
   "cell_type": "code",
   "execution_count": 374,
   "metadata": {},
   "outputs": [],
   "source": [
    "# add suggested move"
   ]
  },
  {
   "cell_type": "code",
   "execution_count": 377,
   "metadata": {},
   "outputs": [
    {
     "data": {
      "image/png": "[encoded data removed]",
      "text/plain": [
       "<PIL.Image.Image image mode=RGB size=300x200 at 0x7A48F53503A0>"
      ]
     },
     "metadata": {},
     "output_type": "display_data"
    },
    {
     "name": "stdout",
     "output_type": "stream",
     "text": [
      "BLACKJACK 0.5  (Now with chance of busting and card counting!)\n"
     ]
    },
    {
     "data": {
      "application/vnd.jupyter.widget-view+json": {
       "model_id": "841a5b14eb4c4e55bedffef64d7933ab",
       "version_major": 2,
       "version_minor": 0
      },
      "text/plain": [
       "Button(button_style='info', description='Start playing!', style=ButtonStyle())"
      ]
     },
     "metadata": {},
     "output_type": "display_data"
    },
    {
     "data": {
      "application/vnd.jupyter.widget-view+json": {
       "model_id": "d1ec3c93c22a485eb3b16844e139c46c",
       "version_major": 2,
       "version_minor": 0
      },
      "text/plain": [
       "Button(button_style='info', description='Quit', style=ButtonStyle())"
      ]
     },
     "metadata": {},
     "output_type": "display_data"
    },
    {
     "data": {
      "application/vnd.jupyter.widget-view+json": {
       "model_id": "26a2e63bc2fa415e911b8e0886d222fe",
       "version_major": 2,
       "version_minor": 0
      },
      "text/plain": [
       "Button(button_style='info', description='Rules', style=ButtonStyle())"
      ]
     },
     "metadata": {},
     "output_type": "display_data"
    },
    {
     "name": "stdout",
     "output_type": "stream",
     "text": [
      "\n",
      "\n",
      "by jaume\n",
      "2020\n"
     ]
    }
   ],
   "source": [
    "play()"
   ]
  }
 ],
 "metadata": {
  "kernelspec": {
   "display_name": "Python 3",
   "language": "python",
   "name": "python3"
  },
  "language_info": {
   "codemirror_mode": {
    "name": "ipython",
    "version": 3
   },
   "file_extension": ".py",
   "mimetype": "text/x-python",
   "name": "python",
   "nbconvert_exporter": "python",
   "pygments_lexer": "ipython3",
   "version": "3.8.6"
  }
 },
 "nbformat": 4,
 "nbformat_minor": 4
}
