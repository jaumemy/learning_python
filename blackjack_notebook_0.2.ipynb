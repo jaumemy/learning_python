{
 "cells": [
  {
   "cell_type": "code",
   "execution_count": 1,
   "metadata": {},
   "outputs": [],
   "source": [
    "import random\n",
    "import ipywidgets as widgets\n",
    "from IPython import display\n",
    "import time\n",
    "import pdb"
   ]
  },
  {
   "cell_type": "code",
   "execution_count": null,
   "metadata": {},
   "outputs": [],
   "source": []
  },
  {
   "cell_type": "code",
   "execution_count": 2,
   "metadata": {},
   "outputs": [],
   "source": [
    "suits = ('Hearts', 'Diamonds', 'Spades', 'Clubs')\n",
    "ranks = ('Two','Three','Four','Five', 'Six', 'Seven', 'Eight', 'Nine', 'Ten', 'Jack', 'Queen', 'King','Ace')\n",
    "values = {'Two':2, 'Three':3, 'Four':4, 'Five':5, 'Six':6, 'Seven':7, 'Eight':8,'Nine':9, 'Ten':10, 'Jack':10, \n",
    "         'Queen':10, 'King':10, 'Ace':11}"
   ]
  },
  {
   "cell_type": "code",
   "execution_count": null,
   "metadata": {},
   "outputs": [],
   "source": []
  },
  {
   "cell_type": "code",
   "execution_count": 3,
   "metadata": {},
   "outputs": [],
   "source": [
    "class Card:\n",
    "    \n",
    "    def __init__(self, suit, rank):\n",
    "        self.suit = suit\n",
    "        self.rank = rank\n",
    "        self.value = values[rank]\n",
    "    \n",
    "    def __str__(self):\n",
    "        return self.rank + ' of ' + self.suit"
   ]
  },
  {
   "cell_type": "code",
   "execution_count": 4,
   "metadata": {},
   "outputs": [],
   "source": [
    "class Deck:\n",
    "    \n",
    "    def __init__(self):\n",
    "        self.deck = []  # start with an empty list\n",
    "        for suit in suits:\n",
    "            for rank in ranks:\n",
    "                card = Card(suit, rank)\n",
    "                self.deck.append(card)\n",
    "    \n",
    "    def __str__(self):\n",
    "        deck_comp = ''\n",
    "        for card in self.deck:\n",
    "            deck_comp += '\\n' + card.__str__()\n",
    "        return 'The deck has:' + deck_comp\n",
    "\n",
    "    def shuffle(self):\n",
    "        random.shuffle(self.deck)\n",
    "        \n",
    "    def deal(self):\n",
    "        return self.deck.pop()\n",
    "    \n",
    "    def decklist(self):\n",
    "        return self.deck"
   ]
  },
  {
   "cell_type": "code",
   "execution_count": 5,
   "metadata": {},
   "outputs": [],
   "source": [
    "class Hand:\n",
    "    def __init__(self):\n",
    "        self.cards = []  # start with an empty list as we did in the Deck class\n",
    "        self.value = 0   # start with zero value\n",
    "        self.aces = 0    # add an attribute to keep track of aces\n",
    "    \n",
    "    def add_card(self,card):\n",
    "        self.cards.append(card)\n",
    "        self.value += card.value\n",
    "        if card.rank == 'Ace':\n",
    "            self.aces += 1\n",
    "    \n",
    "    def adjust_for_ace(self):\n",
    "        while self.value > 21 and self.aces:\n",
    "            self.value -= 10\n",
    "            self.aces -= 1"
   ]
  },
  {
   "cell_type": "code",
   "execution_count": 6,
   "metadata": {},
   "outputs": [],
   "source": [
    "class Chips:\n",
    "    \n",
    "    def __init__(self):\n",
    "        self.total = 100  # This can be set to a default value or supplied by a user input\n",
    "        self.bet = 0\n",
    "        \n",
    "    def win_bet(self):\n",
    "        self.total += self.bet\n",
    "    \n",
    "    def lose_bet(self):\n",
    "        self.total -= self.bet\n",
    "        \n",
    "    def blackjack_bet(self):\n",
    "        self.total = int(self.total*1.5)"
   ]
  },
  {
   "cell_type": "code",
   "execution_count": null,
   "metadata": {},
   "outputs": [],
   "source": []
  },
  {
   "cell_type": "code",
   "execution_count": 7,
   "metadata": {},
   "outputs": [],
   "source": [
    "def initialize_game():\n",
    "    # Creates the chips, the deck, shuffles it, creates the two players and deals two cards to each\n",
    "    # Then, asks for the bet\n",
    "    global deck, player, dealer, slidera, buttonc, ft\n",
    "    deck = Deck()\n",
    "    deck.shuffle()\n",
    "    player = Hand()\n",
    "    dealer = Hand()\n",
    "    player.add_card(deck.deal())\n",
    "    player.add_card(deck.deal())\n",
    "    player.adjust_for_ace()\n",
    "    dealer.add_card(deck.deal())\n",
    "    dealer.add_card(deck.deal())\n",
    "    dealer.adjust_for_ace()\n",
    "    \n",
    "    display.clear_output()\n",
    "    \n",
    "    if ft:\n",
    "        print('Welcome to BlackJack!')\n",
    "        ft = False\n",
    "    print('How much do you want to bet?')\n",
    "    slidera = widgets.IntSlider(value=(chips.total)/2,min=0,max=chips.total)\n",
    "    buttonc = widgets.Button(description='Make Bet',button_style='info') \n",
    "    display.display(slidera)\n",
    "    display.display(buttonc)\n",
    "    buttonc.on_click(on_button_clicked_c)\n",
    "    "
   ]
  },
  {
   "cell_type": "code",
   "execution_count": 8,
   "metadata": {},
   "outputs": [],
   "source": [
    "def take_bet():\n",
    "    global slidera, buttonc, bet, player, dealer\n",
    "    chips.bet = slidera.value\n",
    "    slidera.close()\n",
    "    buttonc.close()\n",
    "    display.clear_output()\n",
    "    print(f'You are betting {slidera.value} chips')\n",
    "    player_rounds()\n",
    "    \n"
   ]
  },
  {
   "cell_type": "code",
   "execution_count": 9,
   "metadata": {},
   "outputs": [],
   "source": [
    "def show_some(player,dealer):\n",
    "    \n",
    "    listplayer = []\n",
    "    for i in player.cards:\n",
    "        listplayer.append(i)\n",
    "    print('\\nPlayer has the following cards:\\n')\n",
    "    for i in listplayer:\n",
    "        print(i)\n",
    "    # find if soft or hard\n",
    "    if 12 <= player.value <= 20 and player.aces == 1:\n",
    "        print(f\"Value = 'Soft' {player.value}\")\n",
    "    elif 12 <= player.value <= 20 and player.aces == 0:\n",
    "        print(f\"Value = 'Hard' {player.value}\")\n",
    "    else:\n",
    "        print(f\"Value = {player.value}\")\n",
    "    \n",
    "    listdealer = []\n",
    "    for i in dealer.cards:\n",
    "        listdealer.append(i)\n",
    "    print('\\n\\nDealer has the following cards:\\n')\n",
    "    print('Secret card')\n",
    "    for i in listdealer[1::]:\n",
    "        print(i)\n",
    "    print('\\n\\n')"
   ]
  },
  {
   "cell_type": "code",
   "execution_count": 10,
   "metadata": {},
   "outputs": [],
   "source": [
    "def show_all(player,dealer):\n",
    "    \n",
    "    listplayer = []\n",
    "    for i in player.cards:\n",
    "        listplayer.append(i)\n",
    "    \n",
    "    listdealer = []\n",
    "    for i in dealer.cards:\n",
    "        listdealer.append(i)\n",
    "        \n",
    "    print(f'\\nPlayer value is {player.value} and has the following cards:\\n')\n",
    "    for i in listplayer:\n",
    "        print(i)\n",
    "    print(f'\\n\\nDealer value is {dealer.value} and has the following cards:\\n')\n",
    "    for i in listdealer:\n",
    "        print(i)\n",
    "    print('\\n\\n')"
   ]
  },
  {
   "cell_type": "code",
   "execution_count": 11,
   "metadata": {},
   "outputs": [],
   "source": [
    "def player_rounds():\n",
    "    global player, deck, dealer\n",
    "    \n",
    "    if player.value == 21 and len(player.cards) == 2 and dealer.value != 21:\n",
    "        blackjack_win(player, chips)\n",
    "    elif player.value < 21:\n",
    "        hit_or_stand()\n",
    "    elif player.value > 21:\n",
    "        display.clear_output()\n",
    "        player_busts(player, chips)\n",
    "    elif player.value == 21 and len(player.cards) != 2:\n",
    "        display.clear_output()\n",
    "        dealer_rounds()\n",
    "    "
   ]
  },
  {
   "cell_type": "code",
   "execution_count": 12,
   "metadata": {},
   "outputs": [],
   "source": [
    "def dealer_rounds():\n",
    "    global player, deck, dealer, chips, bet\n",
    "    \n",
    "    while dealer.value < 17 :\n",
    "        hit(deck, dealer)\n",
    "        \n",
    "    if player.value > dealer.value:\n",
    "        display.clear_output()\n",
    "        player_wins(player,dealer,chips)\n",
    "    elif dealer.value > player.value and dealer.value < 21:\n",
    "        display.clear_output()\n",
    "        dealer_wins(player, dealer, chips)\n",
    "    elif dealer.value > 21:\n",
    "        display.clear_output()\n",
    "        dealer_busts(player, dealer, chips)\n",
    "    elif player.value == dealer.value:\n",
    "        display.clear_output()\n",
    "        push(player, dealer)"
   ]
  },
  {
   "cell_type": "code",
   "execution_count": 13,
   "metadata": {},
   "outputs": [],
   "source": [
    "def hit_or_stand():\n",
    "    global buttond,buttone, player, dealer\n",
    "    \n",
    "    show_some(player, dealer)\n",
    "    buttond = widgets.Button(description='Hit',button_style='info')\n",
    "    buttone = widgets.Button(description='Stand',button_style='info')\n",
    "    display.display(buttond)\n",
    "    display.display(buttone)\n",
    "    buttond.on_click(on_button_clicked_d)\n",
    "    buttone.on_click(on_button_clicked_e)"
   ]
  },
  {
   "cell_type": "code",
   "execution_count": 14,
   "metadata": {},
   "outputs": [],
   "source": [
    "def hit(deck,hand):\n",
    "    \n",
    "    hitcard = deck.deal()\n",
    "    hand.add_card(hitcard)\n",
    "    hand.adjust_for_ace()"
   ]
  },
  {
   "cell_type": "code",
   "execution_count": 15,
   "metadata": {},
   "outputs": [],
   "source": [
    "def player_wins(player, dealer, chips):\n",
    "    if player.value == 21:\n",
    "        print(f\"Player wins! Cards value is exactly 21 and Dealer's cards value is {dealer.value}\")\n",
    "        chips.win_bet()\n",
    "        print(f'Player has now {chips.total} chips')\n",
    "        ask_for_playagain()\n",
    "    \n",
    "    elif player.value > dealer.value and player.value < 21:\n",
    "        print(f\"Player wins! Player's cards value is {player.value} and Dealer's cards value is {dealer.value} \")\n",
    "        chips.win_bet()\n",
    "        print(f'Player has now {chips.total} chips')\n",
    "        ask_for_playagain()"
   ]
  },
  {
   "cell_type": "code",
   "execution_count": 16,
   "metadata": {},
   "outputs": [],
   "source": [
    "def blackjack_win(player, chips):\n",
    "    print('Blackjack! Player wins')\n",
    "    chips.blackjack_bet()\n",
    "    ask_for_playagain()"
   ]
  },
  {
   "cell_type": "code",
   "execution_count": 17,
   "metadata": {},
   "outputs": [],
   "source": [
    "def player_busts(player,chips):\n",
    "    print(f\"Player loses. Player's card value is {player.value}. Dealer wins\")\n",
    "    chips.lose_bet()\n",
    "    print(f'Player has now {chips.total} chips')\n",
    "    ask_for_playagain()"
   ]
  },
  {
   "cell_type": "code",
   "execution_count": 18,
   "metadata": {},
   "outputs": [],
   "source": [
    "def dealer_wins(player, dealer, chips):\n",
    "    if dealer.value == 21:\n",
    "        print('Dealer wins. Cards value is exactly 21.')\n",
    "        chips.lose_bet()\n",
    "        print(f'Player has now {chips.total} chips')\n",
    "        ask_for_playagain()\n",
    "    \n",
    "    elif dealer.value > player.value and dealer.value < 21:\n",
    "        print(f\"Player loses. Player's cards value is {player.value} and Dealer's cards value is {dealer.value}\")\n",
    "        chips.lose_bet()\n",
    "        print(f'Player has now {chips.total} chips')\n",
    "        ask_for_playagain()"
   ]
  },
  {
   "cell_type": "code",
   "execution_count": 19,
   "metadata": {},
   "outputs": [],
   "source": [
    "def dealer_busts(player, dealer, chips):\n",
    "    print(f\"Player wins! Player's cards value is {player.value} and Dealer's cards value is {dealer.value}\")\n",
    "    chips.win_bet()\n",
    "    print(f'Player has now {chips.total} chips')\n",
    "    ask_for_playagain()"
   ]
  },
  {
   "cell_type": "code",
   "execution_count": 20,
   "metadata": {},
   "outputs": [],
   "source": [
    "def push(player, dealer):\n",
    "    print(f'Push! Player and dealer tie.{player.value}/{dealer.value} Bet is returned')\n",
    "    print(f'Player has now {chips.total} chips')\n",
    "    ask_for_playagain()"
   ]
  },
  {
   "cell_type": "code",
   "execution_count": null,
   "metadata": {},
   "outputs": [],
   "source": []
  },
  {
   "cell_type": "code",
   "execution_count": 21,
   "metadata": {},
   "outputs": [],
   "source": [
    "def ask_for_playagain():\n",
    "    global buttonf, buttong\n",
    "    \n",
    "    if chips.total == 0:\n",
    "        print('GAME OVER. You ran out of chips. Thanks for playing')\n",
    "    else:\n",
    "        print('\\nPlay again?')\n",
    "        buttonf = widgets.Button( description='Yes', button_style='info')\n",
    "        buttong = widgets.Button( description='No', button_style='info')\n",
    "        display.display(buttonf)\n",
    "        display.display(buttong)\n",
    "        buttonf.on_click(on_button_clicked_f)\n",
    "        buttong.on_click(on_button_clicked_g)"
   ]
  },
  {
   "cell_type": "code",
   "execution_count": null,
   "metadata": {},
   "outputs": [],
   "source": []
  },
  {
   "cell_type": "code",
   "execution_count": 22,
   "metadata": {},
   "outputs": [],
   "source": [
    "def on_button_clicked_a(b):\n",
    "    buttona.close()\n",
    "    buttonb.close()\n",
    "    initialize_game()"
   ]
  },
  {
   "cell_type": "code",
   "execution_count": 23,
   "metadata": {},
   "outputs": [],
   "source": [
    "def on_button_clicked_b(b):\n",
    "    print('Thanks for playing!')\n",
    "    buttona.close()\n",
    "    buttonb.close()"
   ]
  },
  {
   "cell_type": "code",
   "execution_count": 24,
   "metadata": {},
   "outputs": [],
   "source": [
    "def on_button_clicked_c(b):\n",
    "    slidera.close()\n",
    "    buttonc.close()\n",
    "    take_bet()"
   ]
  },
  {
   "cell_type": "code",
   "execution_count": 25,
   "metadata": {},
   "outputs": [],
   "source": [
    "def on_button_clicked_d(b):\n",
    "    global deck, player\n",
    "    hit(deck,player)\n",
    "    buttond.close()\n",
    "    buttone.close()\n",
    "    display.clear_output()\n",
    "    player_rounds()\n",
    "    "
   ]
  },
  {
   "cell_type": "code",
   "execution_count": 26,
   "metadata": {},
   "outputs": [],
   "source": [
    "def on_button_clicked_e(b):\n",
    "    buttond.close()\n",
    "    buttone.close()\n",
    "    display.clear_output()\n",
    "    dealer_rounds()\n",
    "    \n",
    "    "
   ]
  },
  {
   "cell_type": "code",
   "execution_count": 27,
   "metadata": {},
   "outputs": [],
   "source": [
    "def on_button_clicked_f(b):\n",
    "    buttonf.close()\n",
    "    buttong.close()\n",
    "    display.clear_output()\n",
    "    initialize_game()\n",
    "    "
   ]
  },
  {
   "cell_type": "code",
   "execution_count": 28,
   "metadata": {},
   "outputs": [],
   "source": [
    "def on_button_clicked_g(b):\n",
    "    buttonf.close()\n",
    "    buttong.close()\n",
    "    display.clear_output()\n",
    "    print(f'Thanks for playing. You leave with {chips.total} chips.')"
   ]
  },
  {
   "cell_type": "code",
   "execution_count": null,
   "metadata": {},
   "outputs": [],
   "source": []
  },
  {
   "cell_type": "code",
   "execution_count": 29,
   "metadata": {},
   "outputs": [],
   "source": [
    "def start_playing():\n",
    "    global buttona, buttonb, audio\n",
    "    \n",
    "    print('BACKJACK 2.0  (Now with buttons!)')\n",
    "    #audio\n",
    "    display.display(buttona)\n",
    "    display.display(buttonb) \n",
    "    buttona.on_click(on_button_clicked_a)\n",
    "    buttonb.on_click(on_button_clicked_b)\n",
    "    print('')\n",
    "    print('')\n",
    "    print('by jaume')\n",
    "    print('2020')\n",
    "    play_audio()"
   ]
  },
  {
   "cell_type": "code",
   "execution_count": 30,
   "metadata": {
    "scrolled": true
   },
   "outputs": [],
   "source": [
    "def play():\n",
    "    global buttona, buttonb, chips, ft, audio\n",
    "\n",
    "    buttona = widgets.Button(description = 'Start playing!', button_style = 'info')\n",
    "    buttonb = widgets.Button(description = 'Quit', button_style = 'info')\n",
    "    chips = Chips()\n",
    "    ft = True\n",
    "    start_playing()\n",
    "    "
   ]
  },
  {
   "cell_type": "code",
   "execution_count": 31,
   "metadata": {},
   "outputs": [],
   "source": [
    "def play_audio():\n",
    "    global audio\n",
    "    audio = display.Audio('8ball.wav', autoplay=True)\n",
    "    print('playing audio')\n",
    "    return audio"
   ]
  },
  {
   "cell_type": "code",
   "execution_count": null,
   "metadata": {},
   "outputs": [],
   "source": []
  },
  {
   "cell_type": "code",
   "execution_count": 32,
   "metadata": {},
   "outputs": [],
   "source": [
    "#play_audio()"
   ]
  },
  {
   "cell_type": "code",
   "execution_count": null,
   "metadata": {},
   "outputs": [],
   "source": []
  },
  {
   "cell_type": "code",
   "execution_count": null,
   "metadata": {},
   "outputs": [],
   "source": []
  },
  {
   "cell_type": "code",
   "execution_count": null,
   "metadata": {},
   "outputs": [],
   "source": []
  },
  {
   "cell_type": "code",
   "execution_count": null,
   "metadata": {},
   "outputs": [],
   "source": []
  },
  {
   "cell_type": "code",
   "execution_count": null,
   "metadata": {},
   "outputs": [],
   "source": []
  },
  {
   "cell_type": "code",
   "execution_count": null,
   "metadata": {},
   "outputs": [],
   "source": []
  },
  {
   "cell_type": "code",
   "execution_count": null,
   "metadata": {},
   "outputs": [],
   "source": []
  },
  {
   "cell_type": "code",
   "execution_count": null,
   "metadata": {},
   "outputs": [],
   "source": []
  },
  {
   "cell_type": "code",
   "execution_count": null,
   "metadata": {},
   "outputs": [],
   "source": []
  },
  {
   "cell_type": "code",
   "execution_count": null,
   "metadata": {},
   "outputs": [],
   "source": []
  },
  {
   "cell_type": "code",
   "execution_count": 36,
   "metadata": {},
   "outputs": [],
   "source": [
    "play()"
   ]
  }
 ],
 "metadata": {
  "kernelspec": {
   "display_name": "Python 3",
   "language": "python",
   "name": "python3"
  },
  "language_info": {
   "codemirror_mode": {
    "name": "ipython",
    "version": 3
   },
   "file_extension": ".py",
   "mimetype": "text/x-python",
   "name": "python",
   "nbconvert_exporter": "python",
   "pygments_lexer": "ipython3",
   "version": "3.8.6"
  }
 },
 "nbformat": 4,
 "nbformat_minor": 4
}
